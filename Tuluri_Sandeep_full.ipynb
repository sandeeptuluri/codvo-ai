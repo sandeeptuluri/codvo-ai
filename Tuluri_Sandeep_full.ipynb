{
  "nbformat": 4,
  "nbformat_minor": 0,
  "metadata": {
    "colab": {
      "name": "Tuluri Sandeep.ipynb",
      "provenance": [],
      "collapsed_sections": [],
      "authorship_tag": "ABX9TyNlkDtAOqCfNGQ0l35ukjxp",
      "include_colab_link": true
    },
    "kernelspec": {
      "name": "python3",
      "display_name": "Python 3"
    },
    "language_info": {
      "name": "python"
    }
  },
  "cells": [
    {
      "cell_type": "markdown",
      "metadata": {
        "id": "view-in-github",
        "colab_type": "text"
      },
      "source": [
        "<a href=\"https://colab.research.google.com/github/sandeeptuluri/codvo-ai/blob/main/Tuluri_Sandeep_full.ipynb\" target=\"_parent\"><img src=\"https://colab.research.google.com/assets/colab-badge.svg\" alt=\"Open In Colab\"/></a>"
      ]
    },
    {
      "cell_type": "markdown",
      "metadata": {
        "id": "fBrOdZQaFqXU"
      },
      "source": [
        "Exercise-1 Data Preparation and Preprocessing."
      ]
    },
    {
      "cell_type": "code",
      "metadata": {
        "id": "XHknFaIWF5jl"
      },
      "source": [
        "import numpy as np\n",
        "import pandas as pd\n",
        "import seaborn as sns\n",
        "import matplotlib.pyplot as plt"
      ],
      "execution_count": null,
      "outputs": []
    },
    {
      "cell_type": "markdown",
      "metadata": {
        "id": "lsROvJecFwMB"
      },
      "source": [
        "importing the files as data frames"
      ]
    },
    {
      "cell_type": "code",
      "metadata": {
        "id": "nR9r0K6pGhJS"
      },
      "source": [
        "demo_d = pd.read_csv(\"https://raw.githubusercontent.com/sandeeptuluri/codvo-ai/main/DEMO_D.csv\")"
      ],
      "execution_count": null,
      "outputs": []
    },
    {
      "cell_type": "code",
      "metadata": {
        "id": "5QI013X5I9sx"
      },
      "source": [
        "bpx_d = pd.read_csv(\"https://raw.githubusercontent.com/sandeeptuluri/codvo-ai/main/BPX_D.csv\")"
      ],
      "execution_count": null,
      "outputs": []
    },
    {
      "cell_type": "code",
      "metadata": {
        "id": "pCn_k0-IJsoU"
      },
      "source": [
        "tchol_d = pd.read_csv(\"https://raw.githubusercontent.com/sandeeptuluri/codvo-ai/main/TCHOL_D.csv\")"
      ],
      "execution_count": null,
      "outputs": []
    },
    {
      "cell_type": "markdown",
      "metadata": {
        "id": "T7V60DWkF0K3"
      },
      "source": [
        "merging the data frames"
      ]
    },
    {
      "cell_type": "code",
      "metadata": {
        "id": "tqzM2PYrQeqU"
      },
      "source": [
        "from functools import reduce"
      ],
      "execution_count": null,
      "outputs": []
    },
    {
      "cell_type": "code",
      "metadata": {
        "id": "YAK1DMJgQ7oW"
      },
      "source": [
        "dfs = [demo_d,bpx_d,tchol_d]"
      ],
      "execution_count": null,
      "outputs": []
    },
    {
      "cell_type": "code",
      "metadata": {
        "id": "cTzV6LTtRBL-"
      },
      "source": [
        "df_final = reduce(lambda left,right : pd.merge(left,right, on='SEQN'), dfs)"
      ],
      "execution_count": null,
      "outputs": []
    },
    {
      "cell_type": "code",
      "metadata": {
        "colab": {
          "base_uri": "https://localhost:8080/",
          "height": 224
        },
        "id": "5b6Q1WtkROyJ",
        "outputId": "9fc69c8b-e643-41f0-f647-2caee3689b5a"
      },
      "source": [
        "df_final.head()"
      ],
      "execution_count": null,
      "outputs": [
        {
          "output_type": "execute_result",
          "data": {
            "text/html": [
              "<div>\n",
              "<style scoped>\n",
              "    .dataframe tbody tr th:only-of-type {\n",
              "        vertical-align: middle;\n",
              "    }\n",
              "\n",
              "    .dataframe tbody tr th {\n",
              "        vertical-align: top;\n",
              "    }\n",
              "\n",
              "    .dataframe thead th {\n",
              "        text-align: right;\n",
              "    }\n",
              "</style>\n",
              "<table border=\"1\" class=\"dataframe\">\n",
              "  <thead>\n",
              "    <tr style=\"text-align: right;\">\n",
              "      <th></th>\n",
              "      <th>SEQN</th>\n",
              "      <th>SDDSRVYR</th>\n",
              "      <th>RIDSTATR</th>\n",
              "      <th>RIAGENDR</th>\n",
              "      <th>RIDAGEMN</th>\n",
              "      <th>RIDAGEEX</th>\n",
              "      <th>RIDAGEYR</th>\n",
              "      <th>RIDRETH1</th>\n",
              "      <th>DMDEDUC3</th>\n",
              "      <th>DMDEDUC2</th>\n",
              "      <th>DMDSCHOL</th>\n",
              "      <th>PEASCST1</th>\n",
              "      <th>PEASCTM1</th>\n",
              "      <th>PEASCCT1</th>\n",
              "      <th>BPXCHR</th>\n",
              "      <th>BPQ150A</th>\n",
              "      <th>LBXTC</th>\n",
              "      <th>LBDTCSI</th>\n",
              "      <th>AGE_AT_SCREENING</th>\n",
              "      <th>AGE_AT_EXAM</th>\n",
              "      <th>DMDEDUC</th>\n",
              "      <th>HIGHEST_EDUCATION</th>\n",
              "    </tr>\n",
              "  </thead>\n",
              "  <tbody>\n",
              "    <tr>\n",
              "      <th>0</th>\n",
              "      <td>31128.0</td>\n",
              "      <td>4.0</td>\n",
              "      <td>2.0</td>\n",
              "      <td>2.0</td>\n",
              "      <td>132.0</td>\n",
              "      <td>132.0</td>\n",
              "      <td>11.0</td>\n",
              "      <td>4.0</td>\n",
              "      <td>4.0</td>\n",
              "      <td>0.0</td>\n",
              "      <td>1.0</td>\n",
              "      <td>1.0</td>\n",
              "      <td>401.0</td>\n",
              "      <td>NaN</td>\n",
              "      <td>NaN</td>\n",
              "      <td>2.0</td>\n",
              "      <td>129.0</td>\n",
              "      <td>3.34</td>\n",
              "      <td>132.0</td>\n",
              "      <td>138.0</td>\n",
              "      <td>4.0</td>\n",
              "      <td>ELEMENTARY</td>\n",
              "    </tr>\n",
              "    <tr>\n",
              "      <th>1</th>\n",
              "      <td>31129.0</td>\n",
              "      <td>4.0</td>\n",
              "      <td>2.0</td>\n",
              "      <td>1.0</td>\n",
              "      <td>189.0</td>\n",
              "      <td>190.0</td>\n",
              "      <td>15.0</td>\n",
              "      <td>4.0</td>\n",
              "      <td>10.0</td>\n",
              "      <td>0.0</td>\n",
              "      <td>1.0</td>\n",
              "      <td>1.0</td>\n",
              "      <td>664.0</td>\n",
              "      <td>NaN</td>\n",
              "      <td>NaN</td>\n",
              "      <td>1.0</td>\n",
              "      <td>170.0</td>\n",
              "      <td>4.40</td>\n",
              "      <td>180.0</td>\n",
              "      <td>186.0</td>\n",
              "      <td>10.0</td>\n",
              "      <td>ELEMENTARY</td>\n",
              "    </tr>\n",
              "    <tr>\n",
              "      <th>2</th>\n",
              "      <td>31130.0</td>\n",
              "      <td>4.0</td>\n",
              "      <td>2.0</td>\n",
              "      <td>2.0</td>\n",
              "      <td>NaN</td>\n",
              "      <td>NaN</td>\n",
              "      <td>85.0</td>\n",
              "      <td>3.0</td>\n",
              "      <td>0.0</td>\n",
              "      <td>4.0</td>\n",
              "      <td>NaN</td>\n",
              "      <td>2.0</td>\n",
              "      <td>NaN</td>\n",
              "      <td>4.0</td>\n",
              "      <td>NaN</td>\n",
              "      <td>2.0</td>\n",
              "      <td>NaN</td>\n",
              "      <td>NaN</td>\n",
              "      <td>1020.0</td>\n",
              "      <td>1026.0</td>\n",
              "      <td>4.0</td>\n",
              "      <td>ELEMENTARY</td>\n",
              "    </tr>\n",
              "    <tr>\n",
              "      <th>3</th>\n",
              "      <td>31131.0</td>\n",
              "      <td>4.0</td>\n",
              "      <td>2.0</td>\n",
              "      <td>2.0</td>\n",
              "      <td>535.0</td>\n",
              "      <td>536.0</td>\n",
              "      <td>44.0</td>\n",
              "      <td>4.0</td>\n",
              "      <td>0.0</td>\n",
              "      <td>4.0</td>\n",
              "      <td>NaN</td>\n",
              "      <td>1.0</td>\n",
              "      <td>827.0</td>\n",
              "      <td>NaN</td>\n",
              "      <td>NaN</td>\n",
              "      <td>2.0</td>\n",
              "      <td>105.0</td>\n",
              "      <td>2.72</td>\n",
              "      <td>528.0</td>\n",
              "      <td>534.0</td>\n",
              "      <td>4.0</td>\n",
              "      <td>ELEMENTARY</td>\n",
              "    </tr>\n",
              "    <tr>\n",
              "      <th>4</th>\n",
              "      <td>31132.0</td>\n",
              "      <td>4.0</td>\n",
              "      <td>2.0</td>\n",
              "      <td>1.0</td>\n",
              "      <td>842.0</td>\n",
              "      <td>843.0</td>\n",
              "      <td>70.0</td>\n",
              "      <td>3.0</td>\n",
              "      <td>0.0</td>\n",
              "      <td>5.0</td>\n",
              "      <td>NaN</td>\n",
              "      <td>1.0</td>\n",
              "      <td>730.0</td>\n",
              "      <td>NaN</td>\n",
              "      <td>NaN</td>\n",
              "      <td>2.0</td>\n",
              "      <td>147.0</td>\n",
              "      <td>3.80</td>\n",
              "      <td>840.0</td>\n",
              "      <td>846.0</td>\n",
              "      <td>5.0</td>\n",
              "      <td>ELEMENTARY</td>\n",
              "    </tr>\n",
              "  </tbody>\n",
              "</table>\n",
              "</div>"
            ],
            "text/plain": [
              "      SEQN  SDDSRVYR  RIDSTATR  ...  AGE_AT_EXAM  DMDEDUC  HIGHEST_EDUCATION\n",
              "0  31128.0       4.0       2.0  ...        138.0      4.0         ELEMENTARY\n",
              "1  31129.0       4.0       2.0  ...        186.0     10.0         ELEMENTARY\n",
              "2  31130.0       4.0       2.0  ...       1026.0      4.0         ELEMENTARY\n",
              "3  31131.0       4.0       2.0  ...        534.0      4.0         ELEMENTARY\n",
              "4  31132.0       4.0       2.0  ...        846.0      5.0         ELEMENTARY\n",
              "\n",
              "[5 rows x 22 columns]"
            ]
          },
          "metadata": {
            "tags": []
          },
          "execution_count": 232
        }
      ]
    },
    {
      "cell_type": "markdown",
      "metadata": {
        "id": "OUuHp2B1F6IV"
      },
      "source": [
        "As given in the document of demo_d, we can fill the missing values by converting the years into months at the time of screening."
      ]
    },
    {
      "cell_type": "code",
      "metadata": {
        "id": "vs5KvC0oRmEE"
      },
      "source": [
        "df_final['AGE_AT_SCREENING'] = (df_final['RIDAGEYR'] * 12)"
      ],
      "execution_count": null,
      "outputs": []
    },
    {
      "cell_type": "markdown",
      "metadata": {
        "id": "R8BMv2CPF9nY"
      },
      "source": [
        "As we don't have the (RIDEXMON) column in the data, so we dont have the details when the examination conducted.\n",
        "But it is mentioned that the examination is held at two intervals. I am assuming that it may take 6 months as an average to conduct the examination for the citizens.\n",
        "so i am taking +6  months to the RIDAGEMN as RIDAGEEX."
      ]
    },
    {
      "cell_type": "code",
      "metadata": {
        "id": "lg40Ps4jlQo8"
      },
      "source": [
        "df_final['AGE_AT_EXAM'] = (df_final['AGE_AT_SCREENING'] + 6)"
      ],
      "execution_count": null,
      "outputs": []
    },
    {
      "cell_type": "code",
      "metadata": {
        "colab": {
          "base_uri": "https://localhost:8080/",
          "height": 224
        },
        "id": "Ckbx4H6vmcsi",
        "outputId": "63fb2af8-feda-4dce-d2a1-2e2383ae67c7"
      },
      "source": [
        "df_final.head()"
      ],
      "execution_count": null,
      "outputs": [
        {
          "output_type": "execute_result",
          "data": {
            "text/html": [
              "<div>\n",
              "<style scoped>\n",
              "    .dataframe tbody tr th:only-of-type {\n",
              "        vertical-align: middle;\n",
              "    }\n",
              "\n",
              "    .dataframe tbody tr th {\n",
              "        vertical-align: top;\n",
              "    }\n",
              "\n",
              "    .dataframe thead th {\n",
              "        text-align: right;\n",
              "    }\n",
              "</style>\n",
              "<table border=\"1\" class=\"dataframe\">\n",
              "  <thead>\n",
              "    <tr style=\"text-align: right;\">\n",
              "      <th></th>\n",
              "      <th>SEQN</th>\n",
              "      <th>SDDSRVYR</th>\n",
              "      <th>RIDSTATR</th>\n",
              "      <th>RIAGENDR</th>\n",
              "      <th>RIDAGEMN</th>\n",
              "      <th>RIDAGEEX</th>\n",
              "      <th>RIDAGEYR</th>\n",
              "      <th>RIDRETH1</th>\n",
              "      <th>DMDEDUC3</th>\n",
              "      <th>DMDEDUC2</th>\n",
              "      <th>DMDSCHOL</th>\n",
              "      <th>PEASCST1</th>\n",
              "      <th>PEASCTM1</th>\n",
              "      <th>PEASCCT1</th>\n",
              "      <th>BPXCHR</th>\n",
              "      <th>BPQ150A</th>\n",
              "      <th>LBXTC</th>\n",
              "      <th>LBDTCSI</th>\n",
              "      <th>AGE_AT_SCREENING</th>\n",
              "      <th>AGE_AT_EXAM</th>\n",
              "    </tr>\n",
              "  </thead>\n",
              "  <tbody>\n",
              "    <tr>\n",
              "      <th>0</th>\n",
              "      <td>31128.0</td>\n",
              "      <td>4.0</td>\n",
              "      <td>2.0</td>\n",
              "      <td>2.0</td>\n",
              "      <td>132.0</td>\n",
              "      <td>132.0</td>\n",
              "      <td>11.0</td>\n",
              "      <td>4.0</td>\n",
              "      <td>4.0</td>\n",
              "      <td>NaN</td>\n",
              "      <td>1.0</td>\n",
              "      <td>1.0</td>\n",
              "      <td>401.0</td>\n",
              "      <td>NaN</td>\n",
              "      <td>NaN</td>\n",
              "      <td>2.0</td>\n",
              "      <td>129.0</td>\n",
              "      <td>3.34</td>\n",
              "      <td>132.0</td>\n",
              "      <td>138.0</td>\n",
              "    </tr>\n",
              "    <tr>\n",
              "      <th>1</th>\n",
              "      <td>31129.0</td>\n",
              "      <td>4.0</td>\n",
              "      <td>2.0</td>\n",
              "      <td>1.0</td>\n",
              "      <td>189.0</td>\n",
              "      <td>190.0</td>\n",
              "      <td>15.0</td>\n",
              "      <td>4.0</td>\n",
              "      <td>10.0</td>\n",
              "      <td>NaN</td>\n",
              "      <td>1.0</td>\n",
              "      <td>1.0</td>\n",
              "      <td>664.0</td>\n",
              "      <td>NaN</td>\n",
              "      <td>NaN</td>\n",
              "      <td>1.0</td>\n",
              "      <td>170.0</td>\n",
              "      <td>4.40</td>\n",
              "      <td>180.0</td>\n",
              "      <td>186.0</td>\n",
              "    </tr>\n",
              "    <tr>\n",
              "      <th>2</th>\n",
              "      <td>31130.0</td>\n",
              "      <td>4.0</td>\n",
              "      <td>2.0</td>\n",
              "      <td>2.0</td>\n",
              "      <td>NaN</td>\n",
              "      <td>NaN</td>\n",
              "      <td>85.0</td>\n",
              "      <td>3.0</td>\n",
              "      <td>NaN</td>\n",
              "      <td>4.0</td>\n",
              "      <td>NaN</td>\n",
              "      <td>2.0</td>\n",
              "      <td>NaN</td>\n",
              "      <td>4.0</td>\n",
              "      <td>NaN</td>\n",
              "      <td>2.0</td>\n",
              "      <td>NaN</td>\n",
              "      <td>NaN</td>\n",
              "      <td>1020.0</td>\n",
              "      <td>1026.0</td>\n",
              "    </tr>\n",
              "    <tr>\n",
              "      <th>3</th>\n",
              "      <td>31131.0</td>\n",
              "      <td>4.0</td>\n",
              "      <td>2.0</td>\n",
              "      <td>2.0</td>\n",
              "      <td>535.0</td>\n",
              "      <td>536.0</td>\n",
              "      <td>44.0</td>\n",
              "      <td>4.0</td>\n",
              "      <td>NaN</td>\n",
              "      <td>4.0</td>\n",
              "      <td>NaN</td>\n",
              "      <td>1.0</td>\n",
              "      <td>827.0</td>\n",
              "      <td>NaN</td>\n",
              "      <td>NaN</td>\n",
              "      <td>2.0</td>\n",
              "      <td>105.0</td>\n",
              "      <td>2.72</td>\n",
              "      <td>528.0</td>\n",
              "      <td>534.0</td>\n",
              "    </tr>\n",
              "    <tr>\n",
              "      <th>4</th>\n",
              "      <td>31132.0</td>\n",
              "      <td>4.0</td>\n",
              "      <td>2.0</td>\n",
              "      <td>1.0</td>\n",
              "      <td>842.0</td>\n",
              "      <td>843.0</td>\n",
              "      <td>70.0</td>\n",
              "      <td>3.0</td>\n",
              "      <td>NaN</td>\n",
              "      <td>5.0</td>\n",
              "      <td>NaN</td>\n",
              "      <td>1.0</td>\n",
              "      <td>730.0</td>\n",
              "      <td>NaN</td>\n",
              "      <td>NaN</td>\n",
              "      <td>2.0</td>\n",
              "      <td>147.0</td>\n",
              "      <td>3.80</td>\n",
              "      <td>840.0</td>\n",
              "      <td>846.0</td>\n",
              "    </tr>\n",
              "  </tbody>\n",
              "</table>\n",
              "</div>"
            ],
            "text/plain": [
              "      SEQN  SDDSRVYR  RIDSTATR  ...  LBDTCSI  AGE_AT_SCREENING  AGE_AT_EXAM\n",
              "0  31128.0       4.0       2.0  ...     3.34             132.0        138.0\n",
              "1  31129.0       4.0       2.0  ...     4.40             180.0        186.0\n",
              "2  31130.0       4.0       2.0  ...      NaN            1020.0       1026.0\n",
              "3  31131.0       4.0       2.0  ...     2.72             528.0        534.0\n",
              "4  31132.0       4.0       2.0  ...     3.80             840.0        846.0\n",
              "\n",
              "[5 rows x 20 columns]"
            ]
          },
          "metadata": {
            "tags": []
          },
          "execution_count": 108
        }
      ]
    },
    {
      "cell_type": "markdown",
      "metadata": {
        "id": "0qCcRrCJGGos"
      },
      "source": [
        "As the values in the education section are not in a proper manner i formed an another column combining the two columns so that i have given the status of their education as mentioned in the instructions and by following documents."
      ]
    },
    {
      "cell_type": "code",
      "metadata": {
        "id": "T2jbCfYgoakS"
      },
      "source": [
        "df_final.DMDEDUC3 = round(df_final.DMDEDUC3,1)"
      ],
      "execution_count": null,
      "outputs": []
    },
    {
      "cell_type": "code",
      "metadata": {
        "id": "yDtSs6HyWvVJ"
      },
      "source": [
        "df_final.DMDEDUC2 = df_final.DMDEDUC2.replace(np.nan,0)"
      ],
      "execution_count": null,
      "outputs": []
    },
    {
      "cell_type": "code",
      "metadata": {
        "id": "F1rmCqM0Xteu"
      },
      "source": [
        "df_final.DMDEDUC3 = df_final.DMDEDUC3.replace(np.nan,0)"
      ],
      "execution_count": null,
      "outputs": []
    },
    {
      "cell_type": "code",
      "metadata": {
        "id": "IXMp0vnlYOBG"
      },
      "source": [
        "df_final['DMDEDUC'] = df_final['DMDEDUC2'] + df_final['DMDEDUC3']"
      ],
      "execution_count": null,
      "outputs": []
    },
    {
      "cell_type": "markdown",
      "metadata": {
        "id": "bkR7I606GLwq"
      },
      "source": [
        "created a new column (DMDEDUC)"
      ]
    },
    {
      "cell_type": "code",
      "metadata": {
        "colab": {
          "base_uri": "https://localhost:8080/",
          "height": 224
        },
        "id": "3OnLEHPUYAtk",
        "outputId": "b38a15b2-0ff7-4136-dadf-9d62157b0dc1"
      },
      "source": [
        "df_final.head()"
      ],
      "execution_count": null,
      "outputs": [
        {
          "output_type": "execute_result",
          "data": {
            "text/html": [
              "<div>\n",
              "<style scoped>\n",
              "    .dataframe tbody tr th:only-of-type {\n",
              "        vertical-align: middle;\n",
              "    }\n",
              "\n",
              "    .dataframe tbody tr th {\n",
              "        vertical-align: top;\n",
              "    }\n",
              "\n",
              "    .dataframe thead th {\n",
              "        text-align: right;\n",
              "    }\n",
              "</style>\n",
              "<table border=\"1\" class=\"dataframe\">\n",
              "  <thead>\n",
              "    <tr style=\"text-align: right;\">\n",
              "      <th></th>\n",
              "      <th>SEQN</th>\n",
              "      <th>SDDSRVYR</th>\n",
              "      <th>RIDSTATR</th>\n",
              "      <th>RIAGENDR</th>\n",
              "      <th>RIDAGEMN</th>\n",
              "      <th>RIDAGEEX</th>\n",
              "      <th>RIDAGEYR</th>\n",
              "      <th>RIDRETH1</th>\n",
              "      <th>DMDEDUC3</th>\n",
              "      <th>DMDEDUC2</th>\n",
              "      <th>DMDSCHOL</th>\n",
              "      <th>PEASCST1</th>\n",
              "      <th>PEASCTM1</th>\n",
              "      <th>PEASCCT1</th>\n",
              "      <th>BPXCHR</th>\n",
              "      <th>BPQ150A</th>\n",
              "      <th>LBXTC</th>\n",
              "      <th>LBDTCSI</th>\n",
              "      <th>AGE_AT_SCREENING</th>\n",
              "      <th>AGE_AT_EXAM</th>\n",
              "      <th>DMDEDUC</th>\n",
              "    </tr>\n",
              "  </thead>\n",
              "  <tbody>\n",
              "    <tr>\n",
              "      <th>0</th>\n",
              "      <td>31128.0</td>\n",
              "      <td>4.0</td>\n",
              "      <td>2.0</td>\n",
              "      <td>2.0</td>\n",
              "      <td>132.0</td>\n",
              "      <td>132.0</td>\n",
              "      <td>11.0</td>\n",
              "      <td>4.0</td>\n",
              "      <td>4.0</td>\n",
              "      <td>0.0</td>\n",
              "      <td>1.0</td>\n",
              "      <td>1.0</td>\n",
              "      <td>401.0</td>\n",
              "      <td>NaN</td>\n",
              "      <td>NaN</td>\n",
              "      <td>2.0</td>\n",
              "      <td>129.0</td>\n",
              "      <td>3.34</td>\n",
              "      <td>132.0</td>\n",
              "      <td>138.0</td>\n",
              "      <td>4.0</td>\n",
              "    </tr>\n",
              "    <tr>\n",
              "      <th>1</th>\n",
              "      <td>31129.0</td>\n",
              "      <td>4.0</td>\n",
              "      <td>2.0</td>\n",
              "      <td>1.0</td>\n",
              "      <td>189.0</td>\n",
              "      <td>190.0</td>\n",
              "      <td>15.0</td>\n",
              "      <td>4.0</td>\n",
              "      <td>10.0</td>\n",
              "      <td>0.0</td>\n",
              "      <td>1.0</td>\n",
              "      <td>1.0</td>\n",
              "      <td>664.0</td>\n",
              "      <td>NaN</td>\n",
              "      <td>NaN</td>\n",
              "      <td>1.0</td>\n",
              "      <td>170.0</td>\n",
              "      <td>4.40</td>\n",
              "      <td>180.0</td>\n",
              "      <td>186.0</td>\n",
              "      <td>10.0</td>\n",
              "    </tr>\n",
              "    <tr>\n",
              "      <th>2</th>\n",
              "      <td>31130.0</td>\n",
              "      <td>4.0</td>\n",
              "      <td>2.0</td>\n",
              "      <td>2.0</td>\n",
              "      <td>NaN</td>\n",
              "      <td>NaN</td>\n",
              "      <td>85.0</td>\n",
              "      <td>3.0</td>\n",
              "      <td>0.0</td>\n",
              "      <td>4.0</td>\n",
              "      <td>NaN</td>\n",
              "      <td>2.0</td>\n",
              "      <td>NaN</td>\n",
              "      <td>4.0</td>\n",
              "      <td>NaN</td>\n",
              "      <td>2.0</td>\n",
              "      <td>NaN</td>\n",
              "      <td>NaN</td>\n",
              "      <td>1020.0</td>\n",
              "      <td>1026.0</td>\n",
              "      <td>4.0</td>\n",
              "    </tr>\n",
              "    <tr>\n",
              "      <th>3</th>\n",
              "      <td>31131.0</td>\n",
              "      <td>4.0</td>\n",
              "      <td>2.0</td>\n",
              "      <td>2.0</td>\n",
              "      <td>535.0</td>\n",
              "      <td>536.0</td>\n",
              "      <td>44.0</td>\n",
              "      <td>4.0</td>\n",
              "      <td>0.0</td>\n",
              "      <td>4.0</td>\n",
              "      <td>NaN</td>\n",
              "      <td>1.0</td>\n",
              "      <td>827.0</td>\n",
              "      <td>NaN</td>\n",
              "      <td>NaN</td>\n",
              "      <td>2.0</td>\n",
              "      <td>105.0</td>\n",
              "      <td>2.72</td>\n",
              "      <td>528.0</td>\n",
              "      <td>534.0</td>\n",
              "      <td>4.0</td>\n",
              "    </tr>\n",
              "    <tr>\n",
              "      <th>4</th>\n",
              "      <td>31132.0</td>\n",
              "      <td>4.0</td>\n",
              "      <td>2.0</td>\n",
              "      <td>1.0</td>\n",
              "      <td>842.0</td>\n",
              "      <td>843.0</td>\n",
              "      <td>70.0</td>\n",
              "      <td>3.0</td>\n",
              "      <td>0.0</td>\n",
              "      <td>5.0</td>\n",
              "      <td>NaN</td>\n",
              "      <td>1.0</td>\n",
              "      <td>730.0</td>\n",
              "      <td>NaN</td>\n",
              "      <td>NaN</td>\n",
              "      <td>2.0</td>\n",
              "      <td>147.0</td>\n",
              "      <td>3.80</td>\n",
              "      <td>840.0</td>\n",
              "      <td>846.0</td>\n",
              "      <td>5.0</td>\n",
              "    </tr>\n",
              "  </tbody>\n",
              "</table>\n",
              "</div>"
            ],
            "text/plain": [
              "      SEQN  SDDSRVYR  RIDSTATR  ...  AGE_AT_SCREENING  AGE_AT_EXAM  DMDEDUC\n",
              "0  31128.0       4.0       2.0  ...             132.0        138.0      4.0\n",
              "1  31129.0       4.0       2.0  ...             180.0        186.0     10.0\n",
              "2  31130.0       4.0       2.0  ...            1020.0       1026.0      4.0\n",
              "3  31131.0       4.0       2.0  ...             528.0        534.0      4.0\n",
              "4  31132.0       4.0       2.0  ...             840.0        846.0      5.0\n",
              "\n",
              "[5 rows x 21 columns]"
            ]
          },
          "metadata": {
            "tags": []
          },
          "execution_count": 115
        }
      ]
    },
    {
      "cell_type": "markdown",
      "metadata": {
        "id": "jgIpETb5GOet"
      },
      "source": [
        "Giving the status of the education by using the Binning model."
      ]
    },
    {
      "cell_type": "code",
      "metadata": {
        "id": "cYEnpwwMG31K"
      },
      "source": [
        "bins = [0, 12, 16, 99]"
      ],
      "execution_count": null,
      "outputs": []
    },
    {
      "cell_type": "code",
      "metadata": {
        "id": "1sxfLZ15Kxj1"
      },
      "source": [
        "edu_level = ['ELEMENTARY','HIGHSCHOOL','COLLEGE']"
      ],
      "execution_count": null,
      "outputs": []
    },
    {
      "cell_type": "code",
      "metadata": {
        "id": "XF3MA5tfLAxS"
      },
      "source": [
        "df_final['HIGHEST_EDUCATION'] = pd.cut(df_final['DMDEDUC'], bins, labels=edu_level)"
      ],
      "execution_count": null,
      "outputs": []
    },
    {
      "cell_type": "markdown",
      "metadata": {
        "id": "5fY3PmNzGUY6"
      },
      "source": [
        "Assigning the Highest level of education to the person.\n",
        "Filling the NaN as 'ELEMENTARY', as we don't have the perfect data of their education in the document also"
      ]
    },
    {
      "cell_type": "code",
      "metadata": {
        "id": "E1hbr1YeOqBP"
      },
      "source": [
        "df_final['HIGHEST_EDUCATION'] = df_final['HIGHEST_EDUCATION'].fillna('ELEMENTARY')"
      ],
      "execution_count": null,
      "outputs": []
    },
    {
      "cell_type": "markdown",
      "metadata": {
        "id": "y1tgsKvbGdoz"
      },
      "source": [
        "Here is the status of their highest level of their education in the column (\"HIGHEST_EDUCATION)."
      ]
    },
    {
      "cell_type": "code",
      "metadata": {
        "colab": {
          "base_uri": "https://localhost:8080/",
          "height": 224
        },
        "id": "7R4f3ho7OJeZ",
        "outputId": "524d8b83-1549-4a6a-c46f-7b5762d22f02"
      },
      "source": [
        "df_final.head()"
      ],
      "execution_count": null,
      "outputs": [
        {
          "output_type": "execute_result",
          "data": {
            "text/html": [
              "<div>\n",
              "<style scoped>\n",
              "    .dataframe tbody tr th:only-of-type {\n",
              "        vertical-align: middle;\n",
              "    }\n",
              "\n",
              "    .dataframe tbody tr th {\n",
              "        vertical-align: top;\n",
              "    }\n",
              "\n",
              "    .dataframe thead th {\n",
              "        text-align: right;\n",
              "    }\n",
              "</style>\n",
              "<table border=\"1\" class=\"dataframe\">\n",
              "  <thead>\n",
              "    <tr style=\"text-align: right;\">\n",
              "      <th></th>\n",
              "      <th>SEQN</th>\n",
              "      <th>SDDSRVYR</th>\n",
              "      <th>RIDSTATR</th>\n",
              "      <th>RIAGENDR</th>\n",
              "      <th>RIDAGEMN</th>\n",
              "      <th>RIDAGEEX</th>\n",
              "      <th>RIDAGEYR</th>\n",
              "      <th>RIDRETH1</th>\n",
              "      <th>DMDEDUC3</th>\n",
              "      <th>DMDEDUC2</th>\n",
              "      <th>DMDSCHOL</th>\n",
              "      <th>PEASCST1</th>\n",
              "      <th>PEASCTM1</th>\n",
              "      <th>PEASCCT1</th>\n",
              "      <th>BPXCHR</th>\n",
              "      <th>BPQ150A</th>\n",
              "      <th>LBXTC</th>\n",
              "      <th>LBDTCSI</th>\n",
              "      <th>AGE_AT_SCREENING</th>\n",
              "      <th>AGE_AT_EXAM</th>\n",
              "      <th>DMDEDUC</th>\n",
              "      <th>HIGHEST_EDUCATION</th>\n",
              "    </tr>\n",
              "  </thead>\n",
              "  <tbody>\n",
              "    <tr>\n",
              "      <th>0</th>\n",
              "      <td>31128.0</td>\n",
              "      <td>4.0</td>\n",
              "      <td>2.0</td>\n",
              "      <td>2.0</td>\n",
              "      <td>132.0</td>\n",
              "      <td>132.0</td>\n",
              "      <td>11.0</td>\n",
              "      <td>4.0</td>\n",
              "      <td>4.0</td>\n",
              "      <td>0.0</td>\n",
              "      <td>1.0</td>\n",
              "      <td>1.0</td>\n",
              "      <td>401.0</td>\n",
              "      <td>NaN</td>\n",
              "      <td>NaN</td>\n",
              "      <td>2.0</td>\n",
              "      <td>129.0</td>\n",
              "      <td>3.34</td>\n",
              "      <td>132.0</td>\n",
              "      <td>138.0</td>\n",
              "      <td>4.0</td>\n",
              "      <td>ELEMENTARY</td>\n",
              "    </tr>\n",
              "    <tr>\n",
              "      <th>1</th>\n",
              "      <td>31129.0</td>\n",
              "      <td>4.0</td>\n",
              "      <td>2.0</td>\n",
              "      <td>1.0</td>\n",
              "      <td>189.0</td>\n",
              "      <td>190.0</td>\n",
              "      <td>15.0</td>\n",
              "      <td>4.0</td>\n",
              "      <td>10.0</td>\n",
              "      <td>0.0</td>\n",
              "      <td>1.0</td>\n",
              "      <td>1.0</td>\n",
              "      <td>664.0</td>\n",
              "      <td>NaN</td>\n",
              "      <td>NaN</td>\n",
              "      <td>1.0</td>\n",
              "      <td>170.0</td>\n",
              "      <td>4.40</td>\n",
              "      <td>180.0</td>\n",
              "      <td>186.0</td>\n",
              "      <td>10.0</td>\n",
              "      <td>ELEMENTARY</td>\n",
              "    </tr>\n",
              "    <tr>\n",
              "      <th>2</th>\n",
              "      <td>31130.0</td>\n",
              "      <td>4.0</td>\n",
              "      <td>2.0</td>\n",
              "      <td>2.0</td>\n",
              "      <td>NaN</td>\n",
              "      <td>NaN</td>\n",
              "      <td>85.0</td>\n",
              "      <td>3.0</td>\n",
              "      <td>0.0</td>\n",
              "      <td>4.0</td>\n",
              "      <td>NaN</td>\n",
              "      <td>2.0</td>\n",
              "      <td>NaN</td>\n",
              "      <td>4.0</td>\n",
              "      <td>NaN</td>\n",
              "      <td>2.0</td>\n",
              "      <td>NaN</td>\n",
              "      <td>NaN</td>\n",
              "      <td>1020.0</td>\n",
              "      <td>1026.0</td>\n",
              "      <td>4.0</td>\n",
              "      <td>ELEMENTARY</td>\n",
              "    </tr>\n",
              "    <tr>\n",
              "      <th>3</th>\n",
              "      <td>31131.0</td>\n",
              "      <td>4.0</td>\n",
              "      <td>2.0</td>\n",
              "      <td>2.0</td>\n",
              "      <td>535.0</td>\n",
              "      <td>536.0</td>\n",
              "      <td>44.0</td>\n",
              "      <td>4.0</td>\n",
              "      <td>0.0</td>\n",
              "      <td>4.0</td>\n",
              "      <td>NaN</td>\n",
              "      <td>1.0</td>\n",
              "      <td>827.0</td>\n",
              "      <td>NaN</td>\n",
              "      <td>NaN</td>\n",
              "      <td>2.0</td>\n",
              "      <td>105.0</td>\n",
              "      <td>2.72</td>\n",
              "      <td>528.0</td>\n",
              "      <td>534.0</td>\n",
              "      <td>4.0</td>\n",
              "      <td>ELEMENTARY</td>\n",
              "    </tr>\n",
              "    <tr>\n",
              "      <th>4</th>\n",
              "      <td>31132.0</td>\n",
              "      <td>4.0</td>\n",
              "      <td>2.0</td>\n",
              "      <td>1.0</td>\n",
              "      <td>842.0</td>\n",
              "      <td>843.0</td>\n",
              "      <td>70.0</td>\n",
              "      <td>3.0</td>\n",
              "      <td>0.0</td>\n",
              "      <td>5.0</td>\n",
              "      <td>NaN</td>\n",
              "      <td>1.0</td>\n",
              "      <td>730.0</td>\n",
              "      <td>NaN</td>\n",
              "      <td>NaN</td>\n",
              "      <td>2.0</td>\n",
              "      <td>147.0</td>\n",
              "      <td>3.80</td>\n",
              "      <td>840.0</td>\n",
              "      <td>846.0</td>\n",
              "      <td>5.0</td>\n",
              "      <td>ELEMENTARY</td>\n",
              "    </tr>\n",
              "  </tbody>\n",
              "</table>\n",
              "</div>"
            ],
            "text/plain": [
              "      SEQN  SDDSRVYR  RIDSTATR  ...  AGE_AT_EXAM  DMDEDUC  HIGHEST_EDUCATION\n",
              "0  31128.0       4.0       2.0  ...        138.0      4.0         ELEMENTARY\n",
              "1  31129.0       4.0       2.0  ...        186.0     10.0         ELEMENTARY\n",
              "2  31130.0       4.0       2.0  ...       1026.0      4.0         ELEMENTARY\n",
              "3  31131.0       4.0       2.0  ...        534.0      4.0         ELEMENTARY\n",
              "4  31132.0       4.0       2.0  ...        846.0      5.0         ELEMENTARY\n",
              "\n",
              "[5 rows x 22 columns]"
            ]
          },
          "metadata": {
            "tags": []
          },
          "execution_count": 231
        }
      ]
    },
    {
      "cell_type": "markdown",
      "metadata": {
        "id": "yTtRACVQGkyv"
      },
      "source": [
        "Going to the retired section."
      ]
    },
    {
      "cell_type": "code",
      "metadata": {
        "id": "13JUaQUePgKR"
      },
      "source": [
        "retired = pd.read_csv('https://raw.githubusercontent.com/sandeeptuluri/codvo-ai/main/DEMO_RETIRED.CSV')"
      ],
      "execution_count": null,
      "outputs": []
    },
    {
      "cell_type": "code",
      "metadata": {
        "colab": {
          "base_uri": "https://localhost:8080/",
          "height": 204
        },
        "id": "vleOnSt4K58X",
        "outputId": "f84d6d8b-b1f5-47f9-81f2-8fd1046690be"
      },
      "source": [
        "retired.head()"
      ],
      "execution_count": null,
      "outputs": [
        {
          "output_type": "execute_result",
          "data": {
            "text/html": [
              "<div>\n",
              "<style scoped>\n",
              "    .dataframe tbody tr th:only-of-type {\n",
              "        vertical-align: middle;\n",
              "    }\n",
              "\n",
              "    .dataframe tbody tr th {\n",
              "        vertical-align: top;\n",
              "    }\n",
              "\n",
              "    .dataframe thead th {\n",
              "        text-align: right;\n",
              "    }\n",
              "</style>\n",
              "<table border=\"1\" class=\"dataframe\">\n",
              "  <thead>\n",
              "    <tr style=\"text-align: right;\">\n",
              "      <th></th>\n",
              "      <th>SEQN</th>\n",
              "      <th>RETIRED</th>\n",
              "    </tr>\n",
              "  </thead>\n",
              "  <tbody>\n",
              "    <tr>\n",
              "      <th>0</th>\n",
              "      <td>31127.0</td>\n",
              "      <td>NaN</td>\n",
              "    </tr>\n",
              "    <tr>\n",
              "      <th>1</th>\n",
              "      <td>31128.0</td>\n",
              "      <td>0.0</td>\n",
              "    </tr>\n",
              "    <tr>\n",
              "      <th>2</th>\n",
              "      <td>31129.0</td>\n",
              "      <td>0.0</td>\n",
              "    </tr>\n",
              "    <tr>\n",
              "      <th>3</th>\n",
              "      <td>31130.0</td>\n",
              "      <td>1.0</td>\n",
              "    </tr>\n",
              "    <tr>\n",
              "      <th>4</th>\n",
              "      <td>31131.0</td>\n",
              "      <td>0.0</td>\n",
              "    </tr>\n",
              "  </tbody>\n",
              "</table>\n",
              "</div>"
            ],
            "text/plain": [
              "      SEQN  RETIRED\n",
              "0  31127.0      NaN\n",
              "1  31128.0      0.0\n",
              "2  31129.0      0.0\n",
              "3  31130.0      1.0\n",
              "4  31131.0      0.0"
            ]
          },
          "metadata": {
            "tags": []
          },
          "execution_count": 127
        }
      ]
    },
    {
      "cell_type": "code",
      "metadata": {
        "colab": {
          "base_uri": "https://localhost:8080/",
          "height": 405
        },
        "id": "Gu8xEnlAMn8K",
        "outputId": "d82600d5-72fb-4144-86a0-4a3ee9506f07"
      },
      "source": [
        "plt.figure(figsize=(18,6))\n",
        "sns.countplot(x='RIDAGEYR',data=df_final)"
      ],
      "execution_count": null,
      "outputs": [
        {
          "output_type": "execute_result",
          "data": {
            "text/plain": [
              "<matplotlib.axes._subplots.AxesSubplot at 0x7fac71e04610>"
            ]
          },
          "metadata": {
            "tags": []
          },
          "execution_count": 128
        },
        {
          "output_type": "display_data",
          "data": {
            "image/png": "[encoded data removed]",
            "text/plain": [
              "<Figure size 1296x432 with 1 Axes>"
            ]
          },
          "metadata": {
            "tags": [],
            "needs_background": "light"
          }
        }
      ]
    },
    {
      "cell_type": "code",
      "metadata": {
        "colab": {
          "base_uri": "https://localhost:8080/",
          "height": 282
        },
        "id": "UkoGIPpjQaMj",
        "outputId": "10c66750-e4c2-46b7-f41a-386319d429d9"
      },
      "source": [
        "sns.heatmap(retired.isnull(), yticklabels=False, cmap='viridis', cbar= False)"
      ],
      "execution_count": null,
      "outputs": [
        {
          "output_type": "execute_result",
          "data": {
            "text/plain": [
              "<matplotlib.axes._subplots.AxesSubplot at 0x7fac744c0190>"
            ]
          },
          "metadata": {
            "tags": []
          },
          "execution_count": 129
        },
        {
          "output_type": "display_data",
          "data": {
            "image/png": "[encoded data removed]",
            "text/plain": [
              "<Figure size 432x288 with 1 Axes>"
            ]
          },
          "metadata": {
            "tags": [],
            "needs_background": "light"
          }
        }
      ]
    },
    {
      "cell_type": "markdown",
      "metadata": {
        "id": "XtqzuOe3Govz"
      },
      "source": [
        "From the countplot we know that we are having the many people who are aged more than 67.\n",
        "From the heatmap we know that we are having many null values."
      ]
    },
    {
      "cell_type": "markdown",
      "metadata": {
        "id": "tTKpEGEDGscb"
      },
      "source": [
        "As per the rules in the united states the retirement age is around 67. so, i am taking the 67 is the retirement age to fill the null values."
      ]
    },
    {
      "cell_type": "markdown",
      "metadata": {
        "id": "Z-C3R_xdGvGm"
      },
      "source": [
        "For those who are having 67 and above i am assigning them as retired."
      ]
    },
    {
      "cell_type": "code",
      "metadata": {
        "id": "_yF4xDPAVzeF"
      },
      "source": [
        "final = pd.merge(df_final,retired,on='SEQN')"
      ],
      "execution_count": null,
      "outputs": []
    },
    {
      "cell_type": "code",
      "metadata": {
        "colab": {
          "base_uri": "https://localhost:8080/",
          "height": 224
        },
        "id": "f42RIazYWdpG",
        "outputId": "8a99b1d0-a0a6-4f6a-b624-f464fb162b1b"
      },
      "source": [
        "final.head()"
      ],
      "execution_count": null,
      "outputs": [
        {
          "output_type": "execute_result",
          "data": {
            "text/html": [
              "<div>\n",
              "<style scoped>\n",
              "    .dataframe tbody tr th:only-of-type {\n",
              "        vertical-align: middle;\n",
              "    }\n",
              "\n",
              "    .dataframe tbody tr th {\n",
              "        vertical-align: top;\n",
              "    }\n",
              "\n",
              "    .dataframe thead th {\n",
              "        text-align: right;\n",
              "    }\n",
              "</style>\n",
              "<table border=\"1\" class=\"dataframe\">\n",
              "  <thead>\n",
              "    <tr style=\"text-align: right;\">\n",
              "      <th></th>\n",
              "      <th>SEQN</th>\n",
              "      <th>SDDSRVYR</th>\n",
              "      <th>RIDSTATR</th>\n",
              "      <th>RIAGENDR</th>\n",
              "      <th>RIDAGEMN</th>\n",
              "      <th>RIDAGEEX</th>\n",
              "      <th>RIDAGEYR</th>\n",
              "      <th>RIDRETH1</th>\n",
              "      <th>DMDEDUC3</th>\n",
              "      <th>DMDEDUC2</th>\n",
              "      <th>DMDSCHOL</th>\n",
              "      <th>PEASCST1</th>\n",
              "      <th>PEASCTM1</th>\n",
              "      <th>PEASCCT1</th>\n",
              "      <th>BPXCHR</th>\n",
              "      <th>BPQ150A</th>\n",
              "      <th>LBXTC</th>\n",
              "      <th>LBDTCSI</th>\n",
              "      <th>AGE_AT_SCREENING</th>\n",
              "      <th>AGE_AT_EXAM</th>\n",
              "      <th>DMDEDUC</th>\n",
              "      <th>HIGHEST_EDUCATION</th>\n",
              "      <th>RETIRED</th>\n",
              "    </tr>\n",
              "  </thead>\n",
              "  <tbody>\n",
              "    <tr>\n",
              "      <th>0</th>\n",
              "      <td>31128.0</td>\n",
              "      <td>4.0</td>\n",
              "      <td>2.0</td>\n",
              "      <td>2.0</td>\n",
              "      <td>132.0</td>\n",
              "      <td>132.0</td>\n",
              "      <td>11.0</td>\n",
              "      <td>4.0</td>\n",
              "      <td>4.0</td>\n",
              "      <td>0.0</td>\n",
              "      <td>1.0</td>\n",
              "      <td>1.0</td>\n",
              "      <td>401.0</td>\n",
              "      <td>NaN</td>\n",
              "      <td>NaN</td>\n",
              "      <td>2.0</td>\n",
              "      <td>129.0</td>\n",
              "      <td>3.34</td>\n",
              "      <td>132.0</td>\n",
              "      <td>138.0</td>\n",
              "      <td>4.0</td>\n",
              "      <td>ELEMENTARY</td>\n",
              "      <td>0.0</td>\n",
              "    </tr>\n",
              "    <tr>\n",
              "      <th>1</th>\n",
              "      <td>31129.0</td>\n",
              "      <td>4.0</td>\n",
              "      <td>2.0</td>\n",
              "      <td>1.0</td>\n",
              "      <td>189.0</td>\n",
              "      <td>190.0</td>\n",
              "      <td>15.0</td>\n",
              "      <td>4.0</td>\n",
              "      <td>10.0</td>\n",
              "      <td>0.0</td>\n",
              "      <td>1.0</td>\n",
              "      <td>1.0</td>\n",
              "      <td>664.0</td>\n",
              "      <td>NaN</td>\n",
              "      <td>NaN</td>\n",
              "      <td>1.0</td>\n",
              "      <td>170.0</td>\n",
              "      <td>4.40</td>\n",
              "      <td>180.0</td>\n",
              "      <td>186.0</td>\n",
              "      <td>10.0</td>\n",
              "      <td>ELEMENTARY</td>\n",
              "      <td>0.0</td>\n",
              "    </tr>\n",
              "    <tr>\n",
              "      <th>2</th>\n",
              "      <td>31130.0</td>\n",
              "      <td>4.0</td>\n",
              "      <td>2.0</td>\n",
              "      <td>2.0</td>\n",
              "      <td>NaN</td>\n",
              "      <td>NaN</td>\n",
              "      <td>85.0</td>\n",
              "      <td>3.0</td>\n",
              "      <td>0.0</td>\n",
              "      <td>4.0</td>\n",
              "      <td>NaN</td>\n",
              "      <td>2.0</td>\n",
              "      <td>NaN</td>\n",
              "      <td>4.0</td>\n",
              "      <td>NaN</td>\n",
              "      <td>2.0</td>\n",
              "      <td>NaN</td>\n",
              "      <td>NaN</td>\n",
              "      <td>1020.0</td>\n",
              "      <td>1026.0</td>\n",
              "      <td>4.0</td>\n",
              "      <td>ELEMENTARY</td>\n",
              "      <td>1.0</td>\n",
              "    </tr>\n",
              "    <tr>\n",
              "      <th>3</th>\n",
              "      <td>31131.0</td>\n",
              "      <td>4.0</td>\n",
              "      <td>2.0</td>\n",
              "      <td>2.0</td>\n",
              "      <td>535.0</td>\n",
              "      <td>536.0</td>\n",
              "      <td>44.0</td>\n",
              "      <td>4.0</td>\n",
              "      <td>0.0</td>\n",
              "      <td>4.0</td>\n",
              "      <td>NaN</td>\n",
              "      <td>1.0</td>\n",
              "      <td>827.0</td>\n",
              "      <td>NaN</td>\n",
              "      <td>NaN</td>\n",
              "      <td>2.0</td>\n",
              "      <td>105.0</td>\n",
              "      <td>2.72</td>\n",
              "      <td>528.0</td>\n",
              "      <td>534.0</td>\n",
              "      <td>4.0</td>\n",
              "      <td>ELEMENTARY</td>\n",
              "      <td>0.0</td>\n",
              "    </tr>\n",
              "    <tr>\n",
              "      <th>4</th>\n",
              "      <td>31132.0</td>\n",
              "      <td>4.0</td>\n",
              "      <td>2.0</td>\n",
              "      <td>1.0</td>\n",
              "      <td>842.0</td>\n",
              "      <td>843.0</td>\n",
              "      <td>70.0</td>\n",
              "      <td>3.0</td>\n",
              "      <td>0.0</td>\n",
              "      <td>5.0</td>\n",
              "      <td>NaN</td>\n",
              "      <td>1.0</td>\n",
              "      <td>730.0</td>\n",
              "      <td>NaN</td>\n",
              "      <td>NaN</td>\n",
              "      <td>2.0</td>\n",
              "      <td>147.0</td>\n",
              "      <td>3.80</td>\n",
              "      <td>840.0</td>\n",
              "      <td>846.0</td>\n",
              "      <td>5.0</td>\n",
              "      <td>ELEMENTARY</td>\n",
              "      <td>1.0</td>\n",
              "    </tr>\n",
              "  </tbody>\n",
              "</table>\n",
              "</div>"
            ],
            "text/plain": [
              "      SEQN  SDDSRVYR  RIDSTATR  ...  DMDEDUC  HIGHEST_EDUCATION  RETIRED\n",
              "0  31128.0       4.0       2.0  ...      4.0         ELEMENTARY      0.0\n",
              "1  31129.0       4.0       2.0  ...     10.0         ELEMENTARY      0.0\n",
              "2  31130.0       4.0       2.0  ...      4.0         ELEMENTARY      1.0\n",
              "3  31131.0       4.0       2.0  ...      4.0         ELEMENTARY      0.0\n",
              "4  31132.0       4.0       2.0  ...      5.0         ELEMENTARY      1.0\n",
              "\n",
              "[5 rows x 23 columns]"
            ]
          },
          "metadata": {
            "tags": []
          },
          "execution_count": 134
        }
      ]
    },
    {
      "cell_type": "code",
      "metadata": {
        "colab": {
          "base_uri": "https://localhost:8080/"
        },
        "id": "v3LHRHC7WP8I",
        "outputId": "f7daf26f-b674-4d5e-afca-49fa0af07f1b"
      },
      "source": [
        "final.RETIRED.isnull().sum()"
      ],
      "execution_count": null,
      "outputs": [
        {
          "output_type": "execute_result",
          "data": {
            "text/plain": [
              "0"
            ]
          },
          "metadata": {
            "tags": []
          },
          "execution_count": 135
        }
      ]
    },
    {
      "cell_type": "markdown",
      "metadata": {
        "id": "78Wn3a82Gyed"
      },
      "source": [
        "but we can assign the resigned status only after knowing the age, after merging the dataframes we are not getting the age of the persons with null values."
      ]
    },
    {
      "cell_type": "code",
      "metadata": {
        "colab": {
          "base_uri": "https://localhost:8080/",
          "height": 380
        },
        "id": "V0lK7UsmW3NY",
        "outputId": "985d7826-5204-492f-dac8-a894e82cc1a9"
      },
      "source": [
        "sns.heatmap(final.isnull(), yticklabels=False, cmap='viridis', cbar=False)"
      ],
      "execution_count": null,
      "outputs": [
        {
          "output_type": "execute_result",
          "data": {
            "text/plain": [
              "<matplotlib.axes._subplots.AxesSubplot at 0x7fac74145810>"
            ]
          },
          "metadata": {
            "tags": []
          },
          "execution_count": 142
        },
        {
          "output_type": "display_data",
          "data": {
            "image/png": "[encoded data removed]",
            "text/plain": [
              "<Figure size 432x288 with 1 Axes>"
            ]
          },
          "metadata": {
            "tags": [],
            "needs_background": "light"
          }
        }
      ]
    },
    {
      "cell_type": "markdown",
      "metadata": {
        "id": "L0vaRPYgoTc9"
      },
      "source": [
        "Now there are no null values,from the heatmap in the retired column"
      ]
    },
    {
      "cell_type": "markdown",
      "metadata": {
        "id": "eiLu5YY32Uuc"
      },
      "source": [
        "..."
      ]
    },
    {
      "cell_type": "markdown",
      "metadata": {
        "id": "Z3TekrHz2VwV"
      },
      "source": [
        "....."
      ]
    },
    {
      "cell_type": "markdown",
      "metadata": {
        "id": "cIf0IAj8oJ_2"
      },
      "source": [
        "EXERCISE - 2 : MODEL BUILDING"
      ]
    },
    {
      "cell_type": "markdown",
      "metadata": {
        "id": "NzK0dM8D2XJ4"
      },
      "source": [
        "....."
      ]
    },
    {
      "cell_type": "markdown",
      "metadata": {
        "id": "7ro0tR8woNer"
      },
      "source": [
        " Building model for the customers who are going to claim their insurance in their first year."
      ]
    },
    {
      "cell_type": "markdown",
      "metadata": {
        "id": "h5hUxtbuoQWb"
      },
      "source": [
        "Loading the data."
      ]
    },
    {
      "cell_type": "code",
      "metadata": {
        "id": "wKTH1pZgbP3X"
      },
      "source": [
        "claim_pred = pd.read_csv(\"https://raw.githubusercontent.com/sandeeptuluri/codvo-ai/main/claim_prediction.csv\")"
      ],
      "execution_count": null,
      "outputs": []
    },
    {
      "cell_type": "code",
      "metadata": {
        "colab": {
          "base_uri": "https://localhost:8080/",
          "height": 204
        },
        "id": "o4EeteGdbuHy",
        "outputId": "d34e2f3a-de5d-4968-84aa-ccddf180d636"
      },
      "source": [
        "claim_pred.head()"
      ],
      "execution_count": null,
      "outputs": [
        {
          "output_type": "execute_result",
          "data": {
            "text/html": [
              "<div>\n",
              "<style scoped>\n",
              "    .dataframe tbody tr th:only-of-type {\n",
              "        vertical-align: middle;\n",
              "    }\n",
              "\n",
              "    .dataframe tbody tr th {\n",
              "        vertical-align: top;\n",
              "    }\n",
              "\n",
              "    .dataframe thead th {\n",
              "        text-align: right;\n",
              "    }\n",
              "</style>\n",
              "<table border=\"1\" class=\"dataframe\">\n",
              "  <thead>\n",
              "    <tr style=\"text-align: right;\">\n",
              "      <th></th>\n",
              "      <th>EADDC</th>\n",
              "      <th>EAFXA</th>\n",
              "      <th>FDDBC</th>\n",
              "      <th>AFDDA</th>\n",
              "      <th>AXCXA</th>\n",
              "      <th>EXCCE</th>\n",
              "      <th>FBXFC</th>\n",
              "      <th>DFFEC</th>\n",
              "      <th>CEXAE</th>\n",
              "      <th>BBADX</th>\n",
              "      <th>CLAIM</th>\n",
              "    </tr>\n",
              "  </thead>\n",
              "  <tbody>\n",
              "    <tr>\n",
              "      <th>0</th>\n",
              "      <td>-0.193513</td>\n",
              "      <td>0.021062</td>\n",
              "      <td>-0.870351</td>\n",
              "      <td>4.314903</td>\n",
              "      <td>-4.260162</td>\n",
              "      <td>-1.259531</td>\n",
              "      <td>0.175603</td>\n",
              "      <td>-0.942903</td>\n",
              "      <td>2.333260</td>\n",
              "      <td>4.678712</td>\n",
              "      <td>0</td>\n",
              "    </tr>\n",
              "    <tr>\n",
              "      <th>1</th>\n",
              "      <td>2.667844</td>\n",
              "      <td>-3.195978</td>\n",
              "      <td>2.718651</td>\n",
              "      <td>-0.885312</td>\n",
              "      <td>2.964261</td>\n",
              "      <td>2.161336</td>\n",
              "      <td>2.008505</td>\n",
              "      <td>-0.296360</td>\n",
              "      <td>-0.610780</td>\n",
              "      <td>-2.545978</td>\n",
              "      <td>1</td>\n",
              "    </tr>\n",
              "    <tr>\n",
              "      <th>2</th>\n",
              "      <td>2.280602</td>\n",
              "      <td>0.048539</td>\n",
              "      <td>-2.179863</td>\n",
              "      <td>-0.380866</td>\n",
              "      <td>-1.212960</td>\n",
              "      <td>2.097278</td>\n",
              "      <td>5.131315</td>\n",
              "      <td>-1.250050</td>\n",
              "      <td>2.362880</td>\n",
              "      <td>2.207307</td>\n",
              "      <td>0</td>\n",
              "    </tr>\n",
              "    <tr>\n",
              "      <th>3</th>\n",
              "      <td>0.592376</td>\n",
              "      <td>-1.590548</td>\n",
              "      <td>2.329976</td>\n",
              "      <td>-1.416489</td>\n",
              "      <td>1.743390</td>\n",
              "      <td>3.040990</td>\n",
              "      <td>2.371740</td>\n",
              "      <td>-0.190549</td>\n",
              "      <td>0.890761</td>\n",
              "      <td>-2.671923</td>\n",
              "      <td>0</td>\n",
              "    </tr>\n",
              "    <tr>\n",
              "      <th>4</th>\n",
              "      <td>1.236896</td>\n",
              "      <td>-0.656180</td>\n",
              "      <td>-0.381064</td>\n",
              "      <td>-2.332379</td>\n",
              "      <td>0.660684</td>\n",
              "      <td>2.055621</td>\n",
              "      <td>0.478162</td>\n",
              "      <td>-0.269513</td>\n",
              "      <td>2.614886</td>\n",
              "      <td>-3.655301</td>\n",
              "      <td>0</td>\n",
              "    </tr>\n",
              "  </tbody>\n",
              "</table>\n",
              "</div>"
            ],
            "text/plain": [
              "      EADDC     EAFXA     FDDBC     AFDDA  ...     DFFEC     CEXAE     BBADX  CLAIM\n",
              "0 -0.193513  0.021062 -0.870351  4.314903  ... -0.942903  2.333260  4.678712      0\n",
              "1  2.667844 -3.195978  2.718651 -0.885312  ... -0.296360 -0.610780 -2.545978      1\n",
              "2  2.280602  0.048539 -2.179863 -0.380866  ... -1.250050  2.362880  2.207307      0\n",
              "3  0.592376 -1.590548  2.329976 -1.416489  ... -0.190549  0.890761 -2.671923      0\n",
              "4  1.236896 -0.656180 -0.381064 -2.332379  ... -0.269513  2.614886 -3.655301      0\n",
              "\n",
              "[5 rows x 11 columns]"
            ]
          },
          "metadata": {
            "tags": []
          },
          "execution_count": 193
        }
      ]
    },
    {
      "cell_type": "markdown",
      "metadata": {
        "id": "t3Qc1Tn_G8Co"
      },
      "source": [
        "let's check the info and features of the dataset."
      ]
    },
    {
      "cell_type": "code",
      "metadata": {
        "colab": {
          "base_uri": "https://localhost:8080/"
        },
        "id": "6lZzJdpAcs0P",
        "outputId": "200d1c48-8c73-48e4-ef16-f652164826d2"
      },
      "source": [
        "claim_pred.info()"
      ],
      "execution_count": null,
      "outputs": [
        {
          "output_type": "stream",
          "text": [
            "<class 'pandas.core.frame.DataFrame'>\n",
            "RangeIndex: 10000 entries, 0 to 9999\n",
            "Data columns (total 11 columns):\n",
            " #   Column  Non-Null Count  Dtype  \n",
            "---  ------  --------------  -----  \n",
            " 0   EADDC   10000 non-null  float64\n",
            " 1   EAFXA   10000 non-null  float64\n",
            " 2   FDDBC   10000 non-null  float64\n",
            " 3   AFDDA   10000 non-null  float64\n",
            " 4   AXCXA   10000 non-null  float64\n",
            " 5   EXCCE   10000 non-null  float64\n",
            " 6   FBXFC   10000 non-null  float64\n",
            " 7   DFFEC   10000 non-null  float64\n",
            " 8   CEXAE   10000 non-null  float64\n",
            " 9   BBADX   10000 non-null  float64\n",
            " 10  CLAIM   10000 non-null  int64  \n",
            "dtypes: float64(10), int64(1)\n",
            "memory usage: 859.5 KB\n"
          ],
          "name": "stdout"
        }
      ]
    },
    {
      "cell_type": "markdown",
      "metadata": {
        "id": "15a7SbNeG-6b"
      },
      "source": [
        "As the data is cleaned and well scaled, we will now move forward to the correlation in the dataframe."
      ]
    },
    {
      "cell_type": "markdown",
      "metadata": {
        "id": "JInabvxMHBMb"
      },
      "source": [
        "let's check the correlation between the features by using a heatmap"
      ]
    },
    {
      "cell_type": "code",
      "metadata": {
        "colab": {
          "base_uri": "https://localhost:8080/",
          "height": 395
        },
        "id": "44gYvHYcde9n",
        "outputId": "70c25c97-588d-4b9c-bdc6-4ea68807dc99"
      },
      "source": [
        "plt.figure(figsize=(12,6))\n",
        "sns.heatmap(claim_pred.corr(), annot = True)"
      ],
      "execution_count": null,
      "outputs": [
        {
          "output_type": "execute_result",
          "data": {
            "text/plain": [
              "<matplotlib.axes._subplots.AxesSubplot at 0x7fac794f6250>"
            ]
          },
          "metadata": {
            "tags": []
          },
          "execution_count": 198
        },
        {
          "output_type": "display_data",
          "data": {
            "image/png": "[encoded data removed]",
            "text/plain": [
              "<Figure size 864x432 with 2 Axes>"
            ]
          },
          "metadata": {
            "tags": [],
            "needs_background": "light"
          }
        }
      ]
    },
    {
      "cell_type": "markdown",
      "metadata": {
        "id": "J6YO5PJsHD7u"
      },
      "source": [
        "From the heatmap we can know that, only some features are highly correlating with the \"CLAIM\" feature.\n",
        "The features are 'EAFXA','AFDDA', 'EXCCE', 'DFFEC', 'BBADX',and finally 'CEXAE'."
      ]
    },
    {
      "cell_type": "code",
      "metadata": {
        "colab": {
          "base_uri": "https://localhost:8080/"
        },
        "id": "DiL49eTfgNJQ",
        "outputId": "610ed8c7-4668-4d01-ba29-1a82950da729"
      },
      "source": [
        "claim_pred.columns"
      ],
      "execution_count": null,
      "outputs": [
        {
          "output_type": "execute_result",
          "data": {
            "text/plain": [
              "Index(['EADDC', 'EAFXA', 'FDDBC', 'AFDDA', 'AXCXA', 'EXCCE', 'FBXFC', 'DFFEC',\n",
              "       'CEXAE', 'BBADX', 'CLAIM'],\n",
              "      dtype='object')"
            ]
          },
          "metadata": {
            "tags": []
          },
          "execution_count": 201
        }
      ]
    },
    {
      "cell_type": "code",
      "metadata": {
        "id": "FbB7Xi_VgJBo"
      },
      "source": [
        "claim_pred = claim_pred.drop(['EADDC','FDDBC','AXCXA','FBXFC'], axis=1)"
      ],
      "execution_count": null,
      "outputs": []
    },
    {
      "cell_type": "code",
      "metadata": {
        "colab": {
          "base_uri": "https://localhost:8080/",
          "height": 204
        },
        "id": "prJF1FBHgzHn",
        "outputId": "160d492d-18da-48e3-fbd5-ee3ceb8ad0e8"
      },
      "source": [
        "claim_pred.head()"
      ],
      "execution_count": null,
      "outputs": [
        {
          "output_type": "execute_result",
          "data": {
            "text/html": [
              "<div>\n",
              "<style scoped>\n",
              "    .dataframe tbody tr th:only-of-type {\n",
              "        vertical-align: middle;\n",
              "    }\n",
              "\n",
              "    .dataframe tbody tr th {\n",
              "        vertical-align: top;\n",
              "    }\n",
              "\n",
              "    .dataframe thead th {\n",
              "        text-align: right;\n",
              "    }\n",
              "</style>\n",
              "<table border=\"1\" class=\"dataframe\">\n",
              "  <thead>\n",
              "    <tr style=\"text-align: right;\">\n",
              "      <th></th>\n",
              "      <th>EAFXA</th>\n",
              "      <th>AFDDA</th>\n",
              "      <th>EXCCE</th>\n",
              "      <th>DFFEC</th>\n",
              "      <th>CEXAE</th>\n",
              "      <th>BBADX</th>\n",
              "      <th>CLAIM</th>\n",
              "    </tr>\n",
              "  </thead>\n",
              "  <tbody>\n",
              "    <tr>\n",
              "      <th>0</th>\n",
              "      <td>0.021062</td>\n",
              "      <td>4.314903</td>\n",
              "      <td>-1.259531</td>\n",
              "      <td>-0.942903</td>\n",
              "      <td>2.333260</td>\n",
              "      <td>4.678712</td>\n",
              "      <td>0</td>\n",
              "    </tr>\n",
              "    <tr>\n",
              "      <th>1</th>\n",
              "      <td>-3.195978</td>\n",
              "      <td>-0.885312</td>\n",
              "      <td>2.161336</td>\n",
              "      <td>-0.296360</td>\n",
              "      <td>-0.610780</td>\n",
              "      <td>-2.545978</td>\n",
              "      <td>1</td>\n",
              "    </tr>\n",
              "    <tr>\n",
              "      <th>2</th>\n",
              "      <td>0.048539</td>\n",
              "      <td>-0.380866</td>\n",
              "      <td>2.097278</td>\n",
              "      <td>-1.250050</td>\n",
              "      <td>2.362880</td>\n",
              "      <td>2.207307</td>\n",
              "      <td>0</td>\n",
              "    </tr>\n",
              "    <tr>\n",
              "      <th>3</th>\n",
              "      <td>-1.590548</td>\n",
              "      <td>-1.416489</td>\n",
              "      <td>3.040990</td>\n",
              "      <td>-0.190549</td>\n",
              "      <td>0.890761</td>\n",
              "      <td>-2.671923</td>\n",
              "      <td>0</td>\n",
              "    </tr>\n",
              "    <tr>\n",
              "      <th>4</th>\n",
              "      <td>-0.656180</td>\n",
              "      <td>-2.332379</td>\n",
              "      <td>2.055621</td>\n",
              "      <td>-0.269513</td>\n",
              "      <td>2.614886</td>\n",
              "      <td>-3.655301</td>\n",
              "      <td>0</td>\n",
              "    </tr>\n",
              "  </tbody>\n",
              "</table>\n",
              "</div>"
            ],
            "text/plain": [
              "      EAFXA     AFDDA     EXCCE     DFFEC     CEXAE     BBADX  CLAIM\n",
              "0  0.021062  4.314903 -1.259531 -0.942903  2.333260  4.678712      0\n",
              "1 -3.195978 -0.885312  2.161336 -0.296360 -0.610780 -2.545978      1\n",
              "2  0.048539 -0.380866  2.097278 -1.250050  2.362880  2.207307      0\n",
              "3 -1.590548 -1.416489  3.040990 -0.190549  0.890761 -2.671923      0\n",
              "4 -0.656180 -2.332379  2.055621 -0.269513  2.614886 -3.655301      0"
            ]
          },
          "metadata": {
            "tags": []
          },
          "execution_count": 203
        }
      ]
    },
    {
      "cell_type": "markdown",
      "metadata": {
        "id": "sXLP37dcHO8d"
      },
      "source": [
        "Now the data looks good, we can train model now."
      ]
    },
    {
      "cell_type": "markdown",
      "metadata": {
        "id": "oEuiX4YAHYKC"
      },
      "source": [
        "lets split the data by loading the functions."
      ]
    },
    {
      "cell_type": "code",
      "metadata": {
        "id": "5WmxDoeeiLim"
      },
      "source": [
        "from sklearn.model_selection import train_test_split"
      ],
      "execution_count": null,
      "outputs": []
    },
    {
      "cell_type": "code",
      "metadata": {
        "id": "dWGPLQKxiRjG"
      },
      "source": [
        "X = claim_pred.drop(['CLAIM'],axis=1)\n",
        "y = claim_pred['CLAIM']"
      ],
      "execution_count": null,
      "outputs": []
    },
    {
      "cell_type": "code",
      "metadata": {
        "id": "YBUOnD0Hkglc"
      },
      "source": [
        "X_train, X_test, y_train, y_test = train_test_split(X, y, test_size=0.3, random_state=101)"
      ],
      "execution_count": null,
      "outputs": []
    },
    {
      "cell_type": "markdown",
      "metadata": {
        "id": "6Vtnm8cEk9RO"
      },
      "source": [
        "Importing the Logistic Regression model and fitting and training the data."
      ]
    },
    {
      "cell_type": "code",
      "metadata": {
        "id": "uWn36skpiks-"
      },
      "source": [
        "from sklearn.linear_model import LogisticRegression"
      ],
      "execution_count": null,
      "outputs": []
    },
    {
      "cell_type": "code",
      "metadata": {
        "id": "YNUcvYbtkOaO"
      },
      "source": [
        "log_model = LogisticRegression()"
      ],
      "execution_count": null,
      "outputs": []
    },
    {
      "cell_type": "code",
      "metadata": {
        "colab": {
          "base_uri": "https://localhost:8080/"
        },
        "id": "_ANA2MDVkUGv",
        "outputId": "5637d915-dc9a-4d78-c331-8951975096d9"
      },
      "source": [
        "log_model.fit(X_train,y_train)"
      ],
      "execution_count": null,
      "outputs": [
        {
          "output_type": "execute_result",
          "data": {
            "text/plain": [
              "LogisticRegression(C=1.0, class_weight=None, dual=False, fit_intercept=True,\n",
              "                   intercept_scaling=1, l1_ratio=None, max_iter=100,\n",
              "                   multi_class='auto', n_jobs=None, penalty='l2',\n",
              "                   random_state=None, solver='lbfgs', tol=0.0001, verbose=0,\n",
              "                   warm_start=False)"
            ]
          },
          "metadata": {
            "tags": []
          },
          "execution_count": 216
        }
      ]
    },
    {
      "cell_type": "markdown",
      "metadata": {
        "id": "SHmaFlRGlTiw"
      },
      "source": [
        "Predicting the performance of the model trained."
      ]
    },
    {
      "cell_type": "code",
      "metadata": {
        "id": "-93Qn6umk4-d"
      },
      "source": [
        "predictions = log_model.predict(X_test)"
      ],
      "execution_count": null,
      "outputs": []
    },
    {
      "cell_type": "markdown",
      "metadata": {
        "id": "AgjwkxNcmZYM"
      },
      "source": [
        "Printing the metrics of the model"
      ]
    },
    {
      "cell_type": "code",
      "metadata": {
        "id": "9gqmxFwOlgHO"
      },
      "source": [
        "from sklearn.metrics import accuracy_score, classification_report, confusion_matrix"
      ],
      "execution_count": null,
      "outputs": []
    },
    {
      "cell_type": "code",
      "metadata": {
        "colab": {
          "base_uri": "https://localhost:8080/"
        },
        "id": "tKoNdZpgmscW",
        "outputId": "fb06d6ad-efca-4aae-9149-d422a6d0b359"
      },
      "source": [
        "log_train_accu = accuracy_score(y_train,log_model.predict(X_train))\n",
        "log_test_accu = accuracy_score(y_test, predictions)\n",
        "\n",
        "print(f'Training accuracy of the logistic regression is :{log_train_accu}')\n",
        "print(f'Testing accuracy of the logistic regression is :{log_test_accu}')\n",
        "print('\\n')\n",
        "print(classification_report(y_test, predictions))\n",
        "print('\\n')\n",
        "print(confusion_matrix(y_test,predictions))"
      ],
      "execution_count": null,
      "outputs": [
        {
          "output_type": "stream",
          "text": [
            "Training accuracy of the logistic regression is :0.7374285714285714\n",
            "Testing accuracy of the logistic regression is :0.7466666666666667\n",
            "\n",
            "\n",
            "              precision    recall  f1-score   support\n",
            "\n",
            "           0       0.75      0.75      0.75      1519\n",
            "           1       0.75      0.74      0.74      1481\n",
            "\n",
            "    accuracy                           0.75      3000\n",
            "   macro avg       0.75      0.75      0.75      3000\n",
            "weighted avg       0.75      0.75      0.75      3000\n",
            "\n",
            "\n",
            "\n",
            "[[1145  374]\n",
            " [ 386 1095]]\n"
          ],
          "name": "stdout"
        }
      ]
    },
    {
      "cell_type": "markdown",
      "metadata": {
        "id": "PAsbW4neqcPS"
      },
      "source": [
        "This model doesn't seems to be a good one"
      ]
    },
    {
      "cell_type": "markdown",
      "metadata": {
        "id": "BlwZlLbipAWu"
      },
      "source": [
        "Let's check another model for better accuracy."
      ]
    },
    {
      "cell_type": "markdown",
      "metadata": {
        "id": "aUYcXWDFptDO"
      },
      "source": [
        "Importing support vector classifier from SVM"
      ]
    },
    {
      "cell_type": "code",
      "metadata": {
        "id": "63yGzRmqm9Ll"
      },
      "source": [
        "from sklearn.svm import SVC\n",
        "\n",
        "svclassifier = SVC()\n",
        "\n",
        "svclassifier.fit(X_train, y_train)\n",
        "\n",
        "svpred = svclassifier.predict(X_test)"
      ],
      "execution_count": null,
      "outputs": []
    },
    {
      "cell_type": "code",
      "metadata": {
        "colab": {
          "base_uri": "https://localhost:8080/"
        },
        "id": "ckjcdnNapi-X",
        "outputId": "47939284-3a31-4e12-d2f6-ca800bb05c2e"
      },
      "source": [
        "svc_train_accu = accuracy_score(y_train, svclassifier.predict(X_train))\n",
        "svc_test_accu = accuracy_score(y_test, svpred)\n",
        "\n",
        "print(f'Training accuracy of the support vector classifier is :{svc_train_accu}')\n",
        "print(f'Testing accuracy of the support vector classifier is :{svc_test_accu}')\n",
        "print('\\n')\n",
        "print(classification_report(y_test, svpred))\n",
        "print('\\n')\n",
        "print(confusion_matrix(y_test, svpred))"
      ],
      "execution_count": null,
      "outputs": [
        {
          "output_type": "stream",
          "text": [
            "Training accuracy of the support vector classifier is :0.8584285714285714\n",
            "Testing accuracy of the support vector classifier is :0.8523333333333334\n",
            "\n",
            "\n",
            "              precision    recall  f1-score   support\n",
            "\n",
            "           0       0.87      0.83      0.85      1519\n",
            "           1       0.83      0.87      0.85      1481\n",
            "\n",
            "    accuracy                           0.85      3000\n",
            "   macro avg       0.85      0.85      0.85      3000\n",
            "weighted avg       0.85      0.85      0.85      3000\n",
            "\n",
            "\n",
            "\n",
            "[[1262  257]\n",
            " [ 186 1295]]\n"
          ],
          "name": "stdout"
        }
      ]
    },
    {
      "cell_type": "markdown",
      "metadata": {
        "id": "5Kozt9J2qjZi"
      },
      "source": [
        "This model seems good let's check some other model."
      ]
    },
    {
      "cell_type": "markdown",
      "metadata": {
        "id": "W3eAlnsstARF"
      },
      "source": [
        "Import KNeighbors Classifier"
      ]
    },
    {
      "cell_type": "code",
      "metadata": {
        "id": "3Lw6yG-gqU0E"
      },
      "source": [
        "from sklearn.neighbors import KNeighborsClassifier\n",
        "\n",
        "knc = KNeighborsClassifier()\n",
        "\n",
        "knc.fit(X_train, y_train)\n",
        "\n",
        "knc_pred = knc.predict(X_test)"
      ],
      "execution_count": null,
      "outputs": []
    },
    {
      "cell_type": "code",
      "metadata": {
        "colab": {
          "base_uri": "https://localhost:8080/"
        },
        "id": "7MtGVhYDrSfH",
        "outputId": "32a4c0b1-6b43-4dd2-8460-d1e0fbf10723"
      },
      "source": [
        "knc_train_accu = accuracy_score(y_train,knc.predict(X_train))\n",
        "knc_test_accu = accuracy_score(y_test, knc_pred)\n",
        "\n",
        "print(f'Training accuracy of the kneighbors classifier is :{log_train_accu}')\n",
        "print(f'Testing accuracy of the kneighbors classifier is :{log_test_accu}')\n",
        "print('\\n')\n",
        "print(classification_report(y_test, predictions))\n",
        "print('\\n')\n",
        "print(confusion_matrix(y_test,predictions))"
      ],
      "execution_count": null,
      "outputs": [
        {
          "output_type": "stream",
          "text": [
            "Training accuracy of the kneighbors classifier is :0.7374285714285714\n",
            "Testing accuracy of the kneighbors classifier is :0.7466666666666667\n",
            "\n",
            "\n",
            "              precision    recall  f1-score   support\n",
            "\n",
            "           0       0.75      0.75      0.75      1519\n",
            "           1       0.75      0.74      0.74      1481\n",
            "\n",
            "    accuracy                           0.75      3000\n",
            "   macro avg       0.75      0.75      0.75      3000\n",
            "weighted avg       0.75      0.75      0.75      3000\n",
            "\n",
            "\n",
            "\n",
            "[[1145  374]\n",
            " [ 386 1095]]\n"
          ],
          "name": "stdout"
        }
      ]
    },
    {
      "cell_type": "markdown",
      "metadata": {
        "id": "3MjbVudWrxJX"
      },
      "source": [
        "From all the three models i assume the SUPPORT VECTOR CLASSIFIER gives the best accuracy for the data. because this model best fits this type of data and it will perform well for the new similar data that are going to be given."
      ]
    },
    {
      "cell_type": "code",
      "metadata": {
        "id": "WPZ7J1dRrtRk"
      },
      "source": [
        ""
      ],
      "execution_count": null,
      "outputs": []
    },
    {
      "cell_type": "markdown",
      "metadata": {
        "id": "m8nBp_Ljm86Z"
      },
      "source": [
        "..."
      ]
    },
    {
      "cell_type": "markdown",
      "metadata": {
        "id": "yWH6pQz-1zxc"
      },
      "source": [
        "..."
      ]
    },
    {
      "cell_type": "markdown",
      "metadata": {
        "id": "Lu5aNFvb102c"
      },
      "source": [
        "EXERCISE - 3 : MODEL EVALUATION"
      ]
    },
    {
      "cell_type": "markdown",
      "metadata": {
        "id": "YnmKeJkJ2REE"
      },
      "source": [
        "...."
      ]
    },
    {
      "cell_type": "markdown",
      "metadata": {
        "id": "AS-U37CwEG57"
      },
      "source": [
        "1. Answer for the 1st question.\n",
        "\n",
        "  * Actually there is no perfect answer for the number of clusters, because it depends on the method used to find the similarities and parameters for partition. but there many indices to find the optimal number of clusters for better results. the two major approaches are domain knowledge and data driven approach.\n",
        "\n",
        "  * The efficacy of the KMeans Clustering largely depends on the optimal number of clusters given in the model. if clusters are too high, each point boardly start representing a cluster and if clusters are low, the data points are incorrectly clustered. so selecting the optimal numbers of clusters gives the best efficiency.\n"
      ]
    },
    {
      "cell_type": "markdown",
      "metadata": {
        "id": "dvTtiD0kJ-50"
      },
      "source": [
        "2. Answer for the 2nd question.\n",
        "\n",
        "  * High variance can be reduced by dropping least important or unwanted features in the dataset before training the model.\n",
        "  * Increasing the size of the training set also can reduce the high variance.\n",
        "  * Reducing the overfitting, having reasonable variance, avoiding nosiy data helps in fixing the bias, it is better to leave the linear models when the target and features don't match that better."
      ]
    },
    {
      "cell_type": "markdown",
      "metadata": {
        "id": "CK4TBeHCeedG"
      },
      "source": [
        "3. Answer to the 3rd question.\n",
        "\n",
        "    * I will choose a model 4 (training error - 105, validation error - 85).\n",
        "    Because, training error depends on the quality of the data, at some point of time in training model, the training accuracy increases and validation accuracy decreases. so this model gives the better validation score comparing to the other other models that is going to give better accuracy when validated with test data."
      ]
    },
    {
      "cell_type": "markdown",
      "metadata": {
        "id": "gEC7aAt-ggqC"
      },
      "source": [
        "4. Answer to the 4th question.\n",
        "\n",
        "    * Recall = (True positive) / (true positive + false negative)\n",
        "             = (112/(112+97))\n",
        "             = 0.535\n",
        "    \n",
        "    * Precision = (truepositive) / (true positive + false positive)\n",
        "                = (112/(112+48))\n",
        "                = 0.7\n",
        "\n",
        "    * F1 score = 2*(Precision*Recall)/(Precision + Recall)\n",
        "               = (2*(0.535*0.7))/(0.535+0.7)\n",
        "               = 0.606\n",
        "\n",
        "    * If i have to choose this model i will focus on Type 2 error(False postives and false negatives), because while dealing with the cancer, if it is given positive for non-cancer patients and negative for cancer patients there is no point of doing it. The metric i am going to choose is 'misclassification',focusing on these things we can eliminate maximum errors.\n",
        "\n",
        "    * if i have to deal with a youtube video i will go with Type 1 error(false positives). there is no meaning if we recommended inappropriate video(false positives) to the users. the metric i am going to focus is Precison where i can better deal with the best positive decion(video) i can make."
      ]
    },
    {
      "cell_type": "code",
      "metadata": {
        "id": "iv1_FpI52PBM"
      },
      "source": [
        ""
      ],
      "execution_count": null,
      "outputs": []
    },
    {
      "cell_type": "markdown",
      "metadata": {
        "id": "pGfLjfH9mo7l"
      },
      "source": [
        "...."
      ]
    },
    {
      "cell_type": "markdown",
      "metadata": {
        "id": "8r20Bx9RmrJ-"
      },
      "source": [
        "..."
      ]
    },
    {
      "cell_type": "markdown",
      "metadata": {
        "id": "KYBJZibPmveg"
      },
      "source": [
        "EXERCISE - 4 : ANOMALY DETECTION."
      ]
    },
    {
      "cell_type": "markdown",
      "metadata": {
        "id": "sqWra2Ztm4yX"
      },
      "source": [
        "..."
      ]
    },
    {
      "cell_type": "markdown",
      "metadata": {
        "id": "ADakGbtqxPbq"
      },
      "source": [
        "Anomaly detection in oil and gas. \n",
        "Reading and converting the data into dataframe using pandas."
      ]
    },
    {
      "cell_type": "code",
      "metadata": {
        "id": "Di4-EwaAnvqU"
      },
      "source": [
        "import pandas as pd\n",
        "import numpy as np\n",
        "import seaborn as sns\n",
        "import matplotlib.pyplot as plt"
      ],
      "execution_count": 15,
      "outputs": []
    },
    {
      "cell_type": "code",
      "metadata": {
        "id": "XjGrjg10n_N5"
      },
      "source": [
        "oil = pd.read_csv(\"https://raw.githubusercontent.com/sandeeptuluri/codvo-ai/main/anomaly_detection.csv\")"
      ],
      "execution_count": 16,
      "outputs": []
    },
    {
      "cell_type": "code",
      "metadata": {
        "colab": {
          "base_uri": "https://localhost:8080/",
          "height": 204
        },
        "id": "O9Gj3DtoTvno",
        "outputId": "8491fcc5-7b1a-4920-f689-de51ec1aca8d"
      },
      "source": [
        "oil.head()"
      ],
      "execution_count": 55,
      "outputs": [
        {
          "output_type": "execute_result",
          "data": {
            "text/html": [
              "<div>\n",
              "<style scoped>\n",
              "    .dataframe tbody tr th:only-of-type {\n",
              "        vertical-align: middle;\n",
              "    }\n",
              "\n",
              "    .dataframe tbody tr th {\n",
              "        vertical-align: top;\n",
              "    }\n",
              "\n",
              "    .dataframe thead th {\n",
              "        text-align: right;\n",
              "    }\n",
              "</style>\n",
              "<table border=\"1\" class=\"dataframe\">\n",
              "  <thead>\n",
              "    <tr style=\"text-align: right;\">\n",
              "      <th></th>\n",
              "      <th>CEACC</th>\n",
              "      <th>CCDEF</th>\n",
              "      <th>FAXAE</th>\n",
              "      <th>FBFFD</th>\n",
              "      <th>EDDAB</th>\n",
              "    </tr>\n",
              "  </thead>\n",
              "  <tbody>\n",
              "    <tr>\n",
              "      <th>0</th>\n",
              "      <td>0.000000</td>\n",
              "      <td>0.000000</td>\n",
              "      <td>3.000000</td>\n",
              "      <td>3.000000</td>\n",
              "      <td>8.000000</td>\n",
              "    </tr>\n",
              "    <tr>\n",
              "      <th>1</th>\n",
              "      <td>1.232260</td>\n",
              "      <td>-0.217305</td>\n",
              "      <td>3.193780</td>\n",
              "      <td>3.489992</td>\n",
              "      <td>7.792553</td>\n",
              "    </tr>\n",
              "    <tr>\n",
              "      <th>2</th>\n",
              "      <td>2.540129</td>\n",
              "      <td>0.606709</td>\n",
              "      <td>3.180950</td>\n",
              "      <td>3.464811</td>\n",
              "      <td>7.817440</td>\n",
              "    </tr>\n",
              "    <tr>\n",
              "      <th>3</th>\n",
              "      <td>5.520271</td>\n",
              "      <td>1.470812</td>\n",
              "      <td>3.330528</td>\n",
              "      <td>2.968375</td>\n",
              "      <td>7.409152</td>\n",
              "    </tr>\n",
              "    <tr>\n",
              "      <th>4</th>\n",
              "      <td>5.914298</td>\n",
              "      <td>2.745060</td>\n",
              "      <td>3.061706</td>\n",
              "      <td>3.440980</td>\n",
              "      <td>7.153049</td>\n",
              "    </tr>\n",
              "  </tbody>\n",
              "</table>\n",
              "</div>"
            ],
            "text/plain": [
              "      CEACC     CCDEF     FAXAE     FBFFD     EDDAB\n",
              "0  0.000000  0.000000  3.000000  3.000000  8.000000\n",
              "1  1.232260 -0.217305  3.193780  3.489992  7.792553\n",
              "2  2.540129  0.606709  3.180950  3.464811  7.817440\n",
              "3  5.520271  1.470812  3.330528  2.968375  7.409152\n",
              "4  5.914298  2.745060  3.061706  3.440980  7.153049"
            ]
          },
          "metadata": {
            "tags": []
          },
          "execution_count": 55
        }
      ]
    },
    {
      "cell_type": "markdown",
      "metadata": {
        "id": "mZrQupv4ynow"
      },
      "source": [
        "Info about the dataset"
      ]
    },
    {
      "cell_type": "code",
      "metadata": {
        "colab": {
          "base_uri": "https://localhost:8080/"
        },
        "id": "G2UjJQDGp4Eu",
        "outputId": "7200e0e4-4039-4add-93a3-85ab82faf9c1"
      },
      "source": [
        "oil.info()"
      ],
      "execution_count": 17,
      "outputs": [
        {
          "output_type": "stream",
          "text": [
            "<class 'pandas.core.frame.DataFrame'>\n",
            "RangeIndex: 365 entries, 0 to 364\n",
            "Data columns (total 5 columns):\n",
            " #   Column  Non-Null Count  Dtype  \n",
            "---  ------  --------------  -----  \n",
            " 0   CEACC   365 non-null    float64\n",
            " 1   CCDEF   365 non-null    float64\n",
            " 2   FAXAE   365 non-null    float64\n",
            " 3   FBFFD   365 non-null    float64\n",
            " 4   EDDAB   365 non-null    float64\n",
            "dtypes: float64(5)\n",
            "memory usage: 14.4 KB\n"
          ],
          "name": "stdout"
        }
      ]
    },
    {
      "cell_type": "markdown",
      "metadata": {
        "id": "OOhWg0z9z_gE"
      },
      "source": [
        "As it is said in the instructions, the data is well cleaned and scaled.\n",
        "so, we are creating an another column to indicate anomaly in the data, if anomaly present = 1, absent = 0."
      ]
    },
    {
      "cell_type": "markdown",
      "metadata": {
        "id": "LRanEtbNSAFm"
      },
      "source": [
        "It is said that the anomaly is spotted between the dates of 14th february to 21 february (i.e, from 45th day from strting of the year to 52nd day(7 days). by using this we are creating a column called \"ANOMALY\"."
      ]
    },
    {
      "cell_type": "code",
      "metadata": {
        "id": "l1H40LpbTLNt"
      },
      "source": [
        "a = [0, 44, 52, 364]"
      ],
      "execution_count": 53,
      "outputs": []
    },
    {
      "cell_type": "code",
      "metadata": {
        "id": "yqs-GhqGTjZ7"
      },
      "source": [
        "b = [\"0\", \"1\", \"0\"]"
      ],
      "execution_count": 54,
      "outputs": []
    },
    {
      "cell_type": "code",
      "metadata": {
        "id": "0rfXZnE8SeSo"
      },
      "source": [
        "oil[\"ANOMALY\"] = pd.cut(oil.index, a, labels=b, ordered=False)"
      ],
      "execution_count": 57,
      "outputs": []
    },
    {
      "cell_type": "code",
      "metadata": {
        "colab": {
          "base_uri": "https://localhost:8080/",
          "height": 204
        },
        "id": "dr2HKXxvUCfn",
        "outputId": "7cc37ff6-1f35-45b6-d61b-e69f37313ede"
      },
      "source": [
        "oil.head()"
      ],
      "execution_count": 63,
      "outputs": [
        {
          "output_type": "execute_result",
          "data": {
            "text/html": [
              "<div>\n",
              "<style scoped>\n",
              "    .dataframe tbody tr th:only-of-type {\n",
              "        vertical-align: middle;\n",
              "    }\n",
              "\n",
              "    .dataframe tbody tr th {\n",
              "        vertical-align: top;\n",
              "    }\n",
              "\n",
              "    .dataframe thead th {\n",
              "        text-align: right;\n",
              "    }\n",
              "</style>\n",
              "<table border=\"1\" class=\"dataframe\">\n",
              "  <thead>\n",
              "    <tr style=\"text-align: right;\">\n",
              "      <th></th>\n",
              "      <th>CEACC</th>\n",
              "      <th>CCDEF</th>\n",
              "      <th>FAXAE</th>\n",
              "      <th>FBFFD</th>\n",
              "      <th>EDDAB</th>\n",
              "      <th>ANOMALY</th>\n",
              "    </tr>\n",
              "  </thead>\n",
              "  <tbody>\n",
              "    <tr>\n",
              "      <th>0</th>\n",
              "      <td>0.000000</td>\n",
              "      <td>0.000000</td>\n",
              "      <td>3.000000</td>\n",
              "      <td>3.000000</td>\n",
              "      <td>8.000000</td>\n",
              "      <td>NaN</td>\n",
              "    </tr>\n",
              "    <tr>\n",
              "      <th>1</th>\n",
              "      <td>1.232260</td>\n",
              "      <td>-0.217305</td>\n",
              "      <td>3.193780</td>\n",
              "      <td>3.489992</td>\n",
              "      <td>7.792553</td>\n",
              "      <td>0</td>\n",
              "    </tr>\n",
              "    <tr>\n",
              "      <th>2</th>\n",
              "      <td>2.540129</td>\n",
              "      <td>0.606709</td>\n",
              "      <td>3.180950</td>\n",
              "      <td>3.464811</td>\n",
              "      <td>7.817440</td>\n",
              "      <td>0</td>\n",
              "    </tr>\n",
              "    <tr>\n",
              "      <th>3</th>\n",
              "      <td>5.520271</td>\n",
              "      <td>1.470812</td>\n",
              "      <td>3.330528</td>\n",
              "      <td>2.968375</td>\n",
              "      <td>7.409152</td>\n",
              "      <td>0</td>\n",
              "    </tr>\n",
              "    <tr>\n",
              "      <th>4</th>\n",
              "      <td>5.914298</td>\n",
              "      <td>2.745060</td>\n",
              "      <td>3.061706</td>\n",
              "      <td>3.440980</td>\n",
              "      <td>7.153049</td>\n",
              "      <td>0</td>\n",
              "    </tr>\n",
              "  </tbody>\n",
              "</table>\n",
              "</div>"
            ],
            "text/plain": [
              "      CEACC     CCDEF     FAXAE     FBFFD     EDDAB ANOMALY\n",
              "0  0.000000  0.000000  3.000000  3.000000  8.000000     NaN\n",
              "1  1.232260 -0.217305  3.193780  3.489992  7.792553       0\n",
              "2  2.540129  0.606709  3.180950  3.464811  7.817440       0\n",
              "3  5.520271  1.470812  3.330528  2.968375  7.409152       0\n",
              "4  5.914298  2.745060  3.061706  3.440980  7.153049       0"
            ]
          },
          "metadata": {
            "tags": []
          },
          "execution_count": 63
        }
      ]
    },
    {
      "cell_type": "code",
      "metadata": {
        "id": "ct4tmCfiUPAb"
      },
      "source": [
        "oil['ANOMALY'] = oil['ANOMALY'].fillna('0')"
      ],
      "execution_count": 66,
      "outputs": []
    },
    {
      "cell_type": "code",
      "metadata": {
        "colab": {
          "base_uri": "https://localhost:8080/",
          "height": 204
        },
        "id": "FXikybRTUZhl",
        "outputId": "00a794d1-696f-427f-c970-7d42954fcddd"
      },
      "source": [
        "oil.head()"
      ],
      "execution_count": 67,
      "outputs": [
        {
          "output_type": "execute_result",
          "data": {
            "text/html": [
              "<div>\n",
              "<style scoped>\n",
              "    .dataframe tbody tr th:only-of-type {\n",
              "        vertical-align: middle;\n",
              "    }\n",
              "\n",
              "    .dataframe tbody tr th {\n",
              "        vertical-align: top;\n",
              "    }\n",
              "\n",
              "    .dataframe thead th {\n",
              "        text-align: right;\n",
              "    }\n",
              "</style>\n",
              "<table border=\"1\" class=\"dataframe\">\n",
              "  <thead>\n",
              "    <tr style=\"text-align: right;\">\n",
              "      <th></th>\n",
              "      <th>CEACC</th>\n",
              "      <th>CCDEF</th>\n",
              "      <th>FAXAE</th>\n",
              "      <th>FBFFD</th>\n",
              "      <th>EDDAB</th>\n",
              "      <th>ANOMALY</th>\n",
              "    </tr>\n",
              "  </thead>\n",
              "  <tbody>\n",
              "    <tr>\n",
              "      <th>0</th>\n",
              "      <td>0.000000</td>\n",
              "      <td>0.000000</td>\n",
              "      <td>3.000000</td>\n",
              "      <td>3.000000</td>\n",
              "      <td>8.000000</td>\n",
              "      <td>0</td>\n",
              "    </tr>\n",
              "    <tr>\n",
              "      <th>1</th>\n",
              "      <td>1.232260</td>\n",
              "      <td>-0.217305</td>\n",
              "      <td>3.193780</td>\n",
              "      <td>3.489992</td>\n",
              "      <td>7.792553</td>\n",
              "      <td>0</td>\n",
              "    </tr>\n",
              "    <tr>\n",
              "      <th>2</th>\n",
              "      <td>2.540129</td>\n",
              "      <td>0.606709</td>\n",
              "      <td>3.180950</td>\n",
              "      <td>3.464811</td>\n",
              "      <td>7.817440</td>\n",
              "      <td>0</td>\n",
              "    </tr>\n",
              "    <tr>\n",
              "      <th>3</th>\n",
              "      <td>5.520271</td>\n",
              "      <td>1.470812</td>\n",
              "      <td>3.330528</td>\n",
              "      <td>2.968375</td>\n",
              "      <td>7.409152</td>\n",
              "      <td>0</td>\n",
              "    </tr>\n",
              "    <tr>\n",
              "      <th>4</th>\n",
              "      <td>5.914298</td>\n",
              "      <td>2.745060</td>\n",
              "      <td>3.061706</td>\n",
              "      <td>3.440980</td>\n",
              "      <td>7.153049</td>\n",
              "      <td>0</td>\n",
              "    </tr>\n",
              "  </tbody>\n",
              "</table>\n",
              "</div>"
            ],
            "text/plain": [
              "      CEACC     CCDEF     FAXAE     FBFFD     EDDAB ANOMALY\n",
              "0  0.000000  0.000000  3.000000  3.000000  8.000000       0\n",
              "1  1.232260 -0.217305  3.193780  3.489992  7.792553       0\n",
              "2  2.540129  0.606709  3.180950  3.464811  7.817440       0\n",
              "3  5.520271  1.470812  3.330528  2.968375  7.409152       0\n",
              "4  5.914298  2.745060  3.061706  3.440980  7.153049       0"
            ]
          },
          "metadata": {
            "tags": []
          },
          "execution_count": 67
        }
      ]
    },
    {
      "cell_type": "markdown",
      "metadata": {
        "id": "8l4BAYNvVCNw"
      },
      "source": [
        "Now the data is ready"
      ]
    },
    {
      "cell_type": "code",
      "metadata": {
        "colab": {
          "base_uri": "https://localhost:8080/",
          "height": 395
        },
        "id": "80QPu_y4Dhqc",
        "outputId": "2734b135-0847-4a86-df89-84c803032d2b"
      },
      "source": [
        "plt.figure(figsize=(12,6))\n",
        "sns.heatmap(oil.corr(), annot = True)"
      ],
      "execution_count": 68,
      "outputs": [
        {
          "output_type": "execute_result",
          "data": {
            "text/plain": [
              "<matplotlib.axes._subplots.AxesSubplot at 0x7f709d09c410>"
            ]
          },
          "metadata": {
            "tags": []
          },
          "execution_count": 68
        },
        {
          "output_type": "display_data",
          "data": {
            "image/png": "[encoded data removed]",
            "text/plain": [
              "<Figure size 864x432 with 2 Axes>"
            ]
          },
          "metadata": {
            "tags": [],
            "needs_background": "light"
          }
        }
      ]
    },
    {
      "cell_type": "markdown",
      "metadata": {
        "id": "-KRfPZxYIfEG"
      },
      "source": [
        "Many features got well correlated so, we can proceed with the training by splitting the data."
      ]
    },
    {
      "cell_type": "markdown",
      "metadata": {
        "id": "ZFG5pasI0ez8"
      },
      "source": [
        "From the instructions, the training data should be of first 9 months(i.e, 273 days) and the test data is of the last three months(i.e, 92 days)"
      ]
    },
    {
      "cell_type": "code",
      "metadata": {
        "id": "JRAZZ06W0dD7"
      },
      "source": [
        "oil_train = oil[:273]"
      ],
      "execution_count": 69,
      "outputs": []
    },
    {
      "cell_type": "code",
      "metadata": {
        "id": "L7ee0xuZ1fVt"
      },
      "source": [
        "oil_test = oil[273:]"
      ],
      "execution_count": 70,
      "outputs": []
    },
    {
      "cell_type": "markdown",
      "metadata": {
        "id": "4x-ks8zi15vP"
      },
      "source": [
        "We can check both the info of the both dataframes"
      ]
    },
    {
      "cell_type": "code",
      "metadata": {
        "colab": {
          "base_uri": "https://localhost:8080/"
        },
        "id": "hRTJ1KtF1koS",
        "outputId": "b9ba18be-cd43-48ef-8161-0cc85a3659c0"
      },
      "source": [
        "oil_train.info()"
      ],
      "execution_count": 71,
      "outputs": [
        {
          "output_type": "stream",
          "text": [
            "<class 'pandas.core.frame.DataFrame'>\n",
            "RangeIndex: 273 entries, 0 to 272\n",
            "Data columns (total 6 columns):\n",
            " #   Column   Non-Null Count  Dtype   \n",
            "---  ------   --------------  -----   \n",
            " 0   CEACC    273 non-null    float64 \n",
            " 1   CCDEF    273 non-null    float64 \n",
            " 2   FAXAE    273 non-null    float64 \n",
            " 3   FBFFD    273 non-null    float64 \n",
            " 4   EDDAB    273 non-null    float64 \n",
            " 5   ANOMALY  273 non-null    category\n",
            "dtypes: category(1), float64(5)\n",
            "memory usage: 11.1 KB\n"
          ],
          "name": "stdout"
        }
      ]
    },
    {
      "cell_type": "code",
      "metadata": {
        "colab": {
          "base_uri": "https://localhost:8080/"
        },
        "id": "1C--F7um1qAD",
        "outputId": "85d50e5c-3996-4055-a2dd-8efcf3936870"
      },
      "source": [
        "oil_test.info()"
      ],
      "execution_count": 72,
      "outputs": [
        {
          "output_type": "stream",
          "text": [
            "<class 'pandas.core.frame.DataFrame'>\n",
            "RangeIndex: 92 entries, 273 to 364\n",
            "Data columns (total 6 columns):\n",
            " #   Column   Non-Null Count  Dtype   \n",
            "---  ------   --------------  -----   \n",
            " 0   CEACC    92 non-null     float64 \n",
            " 1   CCDEF    92 non-null     float64 \n",
            " 2   FAXAE    92 non-null     float64 \n",
            " 3   FBFFD    92 non-null     float64 \n",
            " 4   EDDAB    92 non-null     float64 \n",
            " 5   ANOMALY  92 non-null     category\n",
            "dtypes: category(1), float64(5)\n",
            "memory usage: 3.9 KB\n"
          ],
          "name": "stdout"
        }
      ]
    },
    {
      "cell_type": "markdown",
      "metadata": {
        "id": "c52wxG4l2Ime"
      },
      "source": [
        "Both training and testing datasets looks good. lets proceed for the model."
      ]
    },
    {
      "cell_type": "markdown",
      "metadata": {
        "id": "CYgHjWodJa1z"
      },
      "source": [
        "Importing the PCA model"
      ]
    },
    {
      "cell_type": "code",
      "metadata": {
        "id": "7kcNs7Qy2Gsv"
      },
      "source": [
        "from sklearn.decomposition import PCA"
      ],
      "execution_count": 73,
      "outputs": []
    },
    {
      "cell_type": "code",
      "metadata": {
        "id": "B8Gkjcr1Jivk"
      },
      "source": [
        "pca = PCA(n_components=2)"
      ],
      "execution_count": 74,
      "outputs": []
    },
    {
      "cell_type": "markdown",
      "metadata": {
        "id": "ouQpyCpoNAHW"
      },
      "source": [
        "Fitting and transforming the model."
      ]
    },
    {
      "cell_type": "code",
      "metadata": {
        "colab": {
          "base_uri": "https://localhost:8080/"
        },
        "id": "cteDdXUVJl6c",
        "outputId": "9556076c-e76f-4f0c-a103-97faf5d579e0"
      },
      "source": [
        "pca.fit(oil_train)"
      ],
      "execution_count": 75,
      "outputs": [
        {
          "output_type": "execute_result",
          "data": {
            "text/plain": [
              "PCA(copy=True, iterated_power='auto', n_components=2, random_state=None,\n",
              "    svd_solver='auto', tol=0.0, whiten=False)"
            ]
          },
          "metadata": {
            "tags": []
          },
          "execution_count": 75
        }
      ]
    },
    {
      "cell_type": "code",
      "metadata": {
        "id": "eKv47uWhJqON"
      },
      "source": [
        "pca_train = pca.transform(oil_train)"
      ],
      "execution_count": 76,
      "outputs": []
    },
    {
      "cell_type": "code",
      "metadata": {
        "id": "oMSVf8ZdMq0t"
      },
      "source": [
        "pca_test = pca.transform(oil_test)"
      ],
      "execution_count": 77,
      "outputs": []
    },
    {
      "cell_type": "markdown",
      "metadata": {
        "id": "TR385DYZWXQY"
      },
      "source": [
        "Checking the shapes of the train and test sets"
      ]
    },
    {
      "cell_type": "code",
      "metadata": {
        "colab": {
          "base_uri": "https://localhost:8080/"
        },
        "id": "rxUIudnIMbYN",
        "outputId": "fb1e3bd9-4782-4e0e-c595-1ea0f021b31d"
      },
      "source": [
        "oil_train.shape"
      ],
      "execution_count": 78,
      "outputs": [
        {
          "output_type": "execute_result",
          "data": {
            "text/plain": [
              "(273, 6)"
            ]
          },
          "metadata": {
            "tags": []
          },
          "execution_count": 78
        }
      ]
    },
    {
      "cell_type": "code",
      "metadata": {
        "colab": {
          "base_uri": "https://localhost:8080/"
        },
        "id": "a_AW0JoZMvtI",
        "outputId": "d5d10e6e-ffe8-4ac1-9b0a-29f28c42cbba"
      },
      "source": [
        "pca_train.shape"
      ],
      "execution_count": 79,
      "outputs": [
        {
          "output_type": "execute_result",
          "data": {
            "text/plain": [
              "(273, 2)"
            ]
          },
          "metadata": {
            "tags": []
          },
          "execution_count": 79
        }
      ]
    },
    {
      "cell_type": "code",
      "metadata": {
        "colab": {
          "base_uri": "https://localhost:8080/"
        },
        "id": "r5CVWRIiMx2H",
        "outputId": "bbd446ab-e9a5-4393-82bb-177e63bd2520"
      },
      "source": [
        "oil_test.shape"
      ],
      "execution_count": 80,
      "outputs": [
        {
          "output_type": "execute_result",
          "data": {
            "text/plain": [
              "(92, 6)"
            ]
          },
          "metadata": {
            "tags": []
          },
          "execution_count": 80
        }
      ]
    },
    {
      "cell_type": "code",
      "metadata": {
        "colab": {
          "base_uri": "https://localhost:8080/"
        },
        "id": "PTsxo-gLM04Q",
        "outputId": "a5edb990-07dd-45c7-da2c-d7bb15df74d1"
      },
      "source": [
        "pca_test.shape"
      ],
      "execution_count": 81,
      "outputs": [
        {
          "output_type": "execute_result",
          "data": {
            "text/plain": [
              "(92, 2)"
            ]
          },
          "metadata": {
            "tags": []
          },
          "execution_count": 81
        }
      ]
    },
    {
      "cell_type": "markdown",
      "metadata": {
        "id": "-5k_aH7_OipQ"
      },
      "source": [
        "we have good quality data."
      ]
    },
    {
      "cell_type": "markdown",
      "metadata": {
        "id": "W2mXZOrzWdly"
      },
      "source": [
        "Plotting a scatter plot from the data obtained by PCA model."
      ]
    },
    {
      "cell_type": "code",
      "metadata": {
        "colab": {
          "base_uri": "https://localhost:8080/",
          "height": 421
        },
        "id": "N6jz6lHGOUtx",
        "outputId": "d0f2c050-1619-4051-a2a2-74a03fe892a1"
      },
      "source": [
        "plt.figure(figsize=(12,6))\n",
        "sns.scatterplot(x = pca_train[:,0], y = pca_train[:,1], hue = oil['ANOMALY'].iloc[:273])\n",
        "plt.xlabel('First principle component')\n",
        "plt.ylabel('Second principle component')\n",
        "plt.title('Trained scatter plot')"
      ],
      "execution_count": 99,
      "outputs": [
        {
          "output_type": "execute_result",
          "data": {
            "text/plain": [
              "Text(0.5, 1.0, 'Trained scatter plot')"
            ]
          },
          "metadata": {
            "tags": []
          },
          "execution_count": 99
        },
        {
          "output_type": "display_data",
          "data": {
            "image/png": "[encoded data removed]",
            "text/plain": [
              "<Figure size 864x432 with 1 Axes>"
            ]
          },
          "metadata": {
            "tags": [],
            "needs_background": "light"
          }
        }
      ]
    },
    {
      "cell_type": "markdown",
      "metadata": {
        "id": "S2aUutsyWo2d"
      },
      "source": [
        "From scatter plot we can clearly see the anomaly, and this data can be used for model building."
      ]
    },
    {
      "cell_type": "markdown",
      "metadata": {
        "id": "Bq4FDMIjZldJ"
      },
      "source": [
        "We will approach with OneclassSVM"
      ]
    },
    {
      "cell_type": "code",
      "metadata": {
        "id": "CuqlpZ0LOzoE"
      },
      "source": [
        "from sklearn.svm import OneClassSVM"
      ],
      "execution_count": 95,
      "outputs": []
    },
    {
      "cell_type": "code",
      "metadata": {
        "id": "7NHcwaLYZxmg"
      },
      "source": [
        "ocsvm = OneClassSVM()"
      ],
      "execution_count": 96,
      "outputs": []
    },
    {
      "cell_type": "markdown",
      "metadata": {
        "id": "x2Ns3TAiadD9"
      },
      "source": [
        "Fitting and predicting the model."
      ]
    },
    {
      "cell_type": "code",
      "metadata": {
        "colab": {
          "base_uri": "https://localhost:8080/"
        },
        "id": "4qxwiqE-Z0tE",
        "outputId": "27147075-c40b-4094-fa8c-97122ce000be"
      },
      "source": [
        "ocsvm.fit(pca_train)"
      ],
      "execution_count": 97,
      "outputs": [
        {
          "output_type": "execute_result",
          "data": {
            "text/plain": [
              "OneClassSVM(cache_size=200, coef0=0.0, degree=3, gamma='scale', kernel='rbf',\n",
              "            max_iter=-1, nu=0.5, shrinking=True, tol=0.001, verbose=False)"
            ]
          },
          "metadata": {
            "tags": []
          },
          "execution_count": 97
        }
      ]
    },
    {
      "cell_type": "code",
      "metadata": {
        "id": "87lF8NhFZ5wA"
      },
      "source": [
        "pred1 = ocsvm.predict(pca_test)"
      ],
      "execution_count": 98,
      "outputs": []
    },
    {
      "cell_type": "markdown",
      "metadata": {
        "id": "C4CVCawyahLH"
      },
      "source": [
        "Plotting the scatter plot for finding the anomalies using the predictions from the model trained."
      ]
    },
    {
      "cell_type": "code",
      "metadata": {
        "colab": {
          "base_uri": "https://localhost:8080/",
          "height": 421
        },
        "id": "rghJoYBpaGx8",
        "outputId": "4cbceb6d-a516-4d42-b225-6f992863613a"
      },
      "source": [
        "plt.figure(figsize=(12,6))\n",
        "sns.scatterplot(x = pca_test[:,0], y = pca_test[:,1], hue = pred1)\n",
        "plt.xlabel(\"first principle component\")\n",
        "plt.ylabel(\"second principle component\")\n",
        "plt.title(\"Test dataset scatter plot\")"
      ],
      "execution_count": 106,
      "outputs": [
        {
          "output_type": "execute_result",
          "data": {
            "text/plain": [
              "Text(0.5, 1.0, 'Test dataset scatter plot')"
            ]
          },
          "metadata": {
            "tags": []
          },
          "execution_count": 106
        },
        {
          "output_type": "display_data",
          "data": {
            "image/png": "[encoded data removed]",
            "text/plain": [
              "<Figure size 864x432 with 1 Axes>"
            ]
          },
          "metadata": {
            "tags": [],
            "needs_background": "light"
          }
        }
      ]
    },
    {
      "cell_type": "markdown",
      "metadata": {
        "id": "_esHypedc-Cy"
      },
      "source": [
        "From this data set we can get the anomalies."
      ]
    },
    {
      "cell_type": "markdown",
      "metadata": {
        "id": "4yhhDty4dOp-"
      },
      "source": [
        ".."
      ]
    },
    {
      "cell_type": "markdown",
      "metadata": {
        "id": "B8ynW2S8dQUl"
      },
      "source": [
        "..."
      ]
    },
    {
      "cell_type": "markdown",
      "metadata": {
        "id": "3Fh0HlJudRcn"
      },
      "source": [
        "..."
      ]
    },
    {
      "cell_type": "markdown",
      "metadata": {
        "id": "MwG8Jyf4dVZ-"
      },
      "source": [
        "This is Tuluri Sandeep, here i completed my assignment to the best of my knowledge. I hope i performed well amd it will impress you.\n",
        "\n",
        "As i am from non_cse background, i may commit some mistakes, but i can learn and do these things efficiently in the future. \n",
        "\n",
        "Thanks for the oppurtunity......\n",
        "\n",
        "i will be waiting for your reply..."
      ]
    },
    {
      "cell_type": "code",
      "metadata": {
        "id": "tOF3xPGCePNZ"
      },
      "source": [
        ""
      ],
      "execution_count": null,
      "outputs": []
    }
  ]
}