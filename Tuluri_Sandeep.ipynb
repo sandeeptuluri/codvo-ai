{
  "nbformat": 4,
  "nbformat_minor": 0,
  "metadata": {
    "colab": {
      "name": "Tuluri Sandeep.ipynb",
      "provenance": [],
      "collapsed_sections": [],
      "authorship_tag": "ABX9TyO+iL5Q7s2krZLen3tbhoTj",
      "include_colab_link": true
    },
    "kernelspec": {
      "name": "python3",
      "display_name": "Python 3"
    },
    "language_info": {
      "name": "python"
    }
  },
  "cells": [
    {
      "cell_type": "markdown",
      "metadata": {
        "id": "view-in-github",
        "colab_type": "text"
      },
      "source": [
        "<a href=\"https://colab.research.google.com/github/sandeeptuluri/codvo-ai/blob/main/Tuluri_Sandeep.ipynb\" target=\"_parent\"><img src=\"https://colab.research.google.com/assets/colab-badge.svg\" alt=\"Open In Colab\"/></a>"
      ]
    },
    {
      "cell_type": "code",
      "metadata": {
        "id": "ixfc_0BeFsib"
      },
      "source": [
        "# Exercise-1 Data Preparation and Preprocessing."
      ],
      "execution_count": 93,
      "outputs": []
    },
    {
      "cell_type": "code",
      "metadata": {
        "id": "XHknFaIWF5jl"
      },
      "source": [
        "import numpy as np\n",
        "import pandas as pd\n",
        "import seaborn as sns\n",
        "import matplotlib.pyplot as plt"
      ],
      "execution_count": 94,
      "outputs": []
    },
    {
      "cell_type": "code",
      "metadata": {
        "id": "e2OzPfA8QTbu"
      },
      "source": [
        "# importing the files as data frames"
      ],
      "execution_count": 95,
      "outputs": []
    },
    {
      "cell_type": "code",
      "metadata": {
        "id": "nR9r0K6pGhJS"
      },
      "source": [
        "demo_d = pd.read_csv(\"https://raw.githubusercontent.com/sandeeptuluri/codvo-ai/main/DEMO_D.csv\")"
      ],
      "execution_count": 96,
      "outputs": []
    },
    {
      "cell_type": "code",
      "metadata": {
        "id": "5QI013X5I9sx"
      },
      "source": [
        "bpx_d = pd.read_csv(\"https://raw.githubusercontent.com/sandeeptuluri/codvo-ai/main/BPX_D.csv\")"
      ],
      "execution_count": 97,
      "outputs": []
    },
    {
      "cell_type": "code",
      "metadata": {
        "id": "pCn_k0-IJsoU"
      },
      "source": [
        "tchol_d = pd.read_csv(\"https://raw.githubusercontent.com/sandeeptuluri/codvo-ai/main/TCHOL_D.csv\")"
      ],
      "execution_count": 98,
      "outputs": []
    },
    {
      "cell_type": "code",
      "metadata": {
        "id": "CpJr4Uh4QXxj"
      },
      "source": [
        "# merging the data frames"
      ],
      "execution_count": 99,
      "outputs": []
    },
    {
      "cell_type": "code",
      "metadata": {
        "id": "tqzM2PYrQeqU"
      },
      "source": [
        "from functools import reduce"
      ],
      "execution_count": 100,
      "outputs": []
    },
    {
      "cell_type": "code",
      "metadata": {
        "id": "YAK1DMJgQ7oW"
      },
      "source": [
        "dfs = [demo_d,bpx_d,tchol_d]"
      ],
      "execution_count": 101,
      "outputs": []
    },
    {
      "cell_type": "code",
      "metadata": {
        "id": "cTzV6LTtRBL-"
      },
      "source": [
        "df_final = reduce(lambda left,right : pd.merge(left,right, on='SEQN'), dfs)"
      ],
      "execution_count": 102,
      "outputs": []
    },
    {
      "cell_type": "code",
      "metadata": {
        "colab": {
          "base_uri": "https://localhost:8080/",
          "height": 224
        },
        "id": "5b6Q1WtkROyJ",
        "outputId": "9fc69c8b-e643-41f0-f647-2caee3689b5a"
      },
      "source": [
        "df_final.head()"
      ],
      "execution_count": 232,
      "outputs": [
        {
          "output_type": "execute_result",
          "data": {
            "text/html": [
              "<div>\n",
              "<style scoped>\n",
              "    .dataframe tbody tr th:only-of-type {\n",
              "        vertical-align: middle;\n",
              "    }\n",
              "\n",
              "    .dataframe tbody tr th {\n",
              "        vertical-align: top;\n",
              "    }\n",
              "\n",
              "    .dataframe thead th {\n",
              "        text-align: right;\n",
              "    }\n",
              "</style>\n",
              "<table border=\"1\" class=\"dataframe\">\n",
              "  <thead>\n",
              "    <tr style=\"text-align: right;\">\n",
              "      <th></th>\n",
              "      <th>SEQN</th>\n",
              "      <th>SDDSRVYR</th>\n",
              "      <th>RIDSTATR</th>\n",
              "      <th>RIAGENDR</th>\n",
              "      <th>RIDAGEMN</th>\n",
              "      <th>RIDAGEEX</th>\n",
              "      <th>RIDAGEYR</th>\n",
              "      <th>RIDRETH1</th>\n",
              "      <th>DMDEDUC3</th>\n",
              "      <th>DMDEDUC2</th>\n",
              "      <th>DMDSCHOL</th>\n",
              "      <th>PEASCST1</th>\n",
              "      <th>PEASCTM1</th>\n",
              "      <th>PEASCCT1</th>\n",
              "      <th>BPXCHR</th>\n",
              "      <th>BPQ150A</th>\n",
              "      <th>LBXTC</th>\n",
              "      <th>LBDTCSI</th>\n",
              "      <th>AGE_AT_SCREENING</th>\n",
              "      <th>AGE_AT_EXAM</th>\n",
              "      <th>DMDEDUC</th>\n",
              "      <th>HIGHEST_EDUCATION</th>\n",
              "    </tr>\n",
              "  </thead>\n",
              "  <tbody>\n",
              "    <tr>\n",
              "      <th>0</th>\n",
              "      <td>31128.0</td>\n",
              "      <td>4.0</td>\n",
              "      <td>2.0</td>\n",
              "      <td>2.0</td>\n",
              "      <td>132.0</td>\n",
              "      <td>132.0</td>\n",
              "      <td>11.0</td>\n",
              "      <td>4.0</td>\n",
              "      <td>4.0</td>\n",
              "      <td>0.0</td>\n",
              "      <td>1.0</td>\n",
              "      <td>1.0</td>\n",
              "      <td>401.0</td>\n",
              "      <td>NaN</td>\n",
              "      <td>NaN</td>\n",
              "      <td>2.0</td>\n",
              "      <td>129.0</td>\n",
              "      <td>3.34</td>\n",
              "      <td>132.0</td>\n",
              "      <td>138.0</td>\n",
              "      <td>4.0</td>\n",
              "      <td>ELEMENTARY</td>\n",
              "    </tr>\n",
              "    <tr>\n",
              "      <th>1</th>\n",
              "      <td>31129.0</td>\n",
              "      <td>4.0</td>\n",
              "      <td>2.0</td>\n",
              "      <td>1.0</td>\n",
              "      <td>189.0</td>\n",
              "      <td>190.0</td>\n",
              "      <td>15.0</td>\n",
              "      <td>4.0</td>\n",
              "      <td>10.0</td>\n",
              "      <td>0.0</td>\n",
              "      <td>1.0</td>\n",
              "      <td>1.0</td>\n",
              "      <td>664.0</td>\n",
              "      <td>NaN</td>\n",
              "      <td>NaN</td>\n",
              "      <td>1.0</td>\n",
              "      <td>170.0</td>\n",
              "      <td>4.40</td>\n",
              "      <td>180.0</td>\n",
              "      <td>186.0</td>\n",
              "      <td>10.0</td>\n",
              "      <td>ELEMENTARY</td>\n",
              "    </tr>\n",
              "    <tr>\n",
              "      <th>2</th>\n",
              "      <td>31130.0</td>\n",
              "      <td>4.0</td>\n",
              "      <td>2.0</td>\n",
              "      <td>2.0</td>\n",
              "      <td>NaN</td>\n",
              "      <td>NaN</td>\n",
              "      <td>85.0</td>\n",
              "      <td>3.0</td>\n",
              "      <td>0.0</td>\n",
              "      <td>4.0</td>\n",
              "      <td>NaN</td>\n",
              "      <td>2.0</td>\n",
              "      <td>NaN</td>\n",
              "      <td>4.0</td>\n",
              "      <td>NaN</td>\n",
              "      <td>2.0</td>\n",
              "      <td>NaN</td>\n",
              "      <td>NaN</td>\n",
              "      <td>1020.0</td>\n",
              "      <td>1026.0</td>\n",
              "      <td>4.0</td>\n",
              "      <td>ELEMENTARY</td>\n",
              "    </tr>\n",
              "    <tr>\n",
              "      <th>3</th>\n",
              "      <td>31131.0</td>\n",
              "      <td>4.0</td>\n",
              "      <td>2.0</td>\n",
              "      <td>2.0</td>\n",
              "      <td>535.0</td>\n",
              "      <td>536.0</td>\n",
              "      <td>44.0</td>\n",
              "      <td>4.0</td>\n",
              "      <td>0.0</td>\n",
              "      <td>4.0</td>\n",
              "      <td>NaN</td>\n",
              "      <td>1.0</td>\n",
              "      <td>827.0</td>\n",
              "      <td>NaN</td>\n",
              "      <td>NaN</td>\n",
              "      <td>2.0</td>\n",
              "      <td>105.0</td>\n",
              "      <td>2.72</td>\n",
              "      <td>528.0</td>\n",
              "      <td>534.0</td>\n",
              "      <td>4.0</td>\n",
              "      <td>ELEMENTARY</td>\n",
              "    </tr>\n",
              "    <tr>\n",
              "      <th>4</th>\n",
              "      <td>31132.0</td>\n",
              "      <td>4.0</td>\n",
              "      <td>2.0</td>\n",
              "      <td>1.0</td>\n",
              "      <td>842.0</td>\n",
              "      <td>843.0</td>\n",
              "      <td>70.0</td>\n",
              "      <td>3.0</td>\n",
              "      <td>0.0</td>\n",
              "      <td>5.0</td>\n",
              "      <td>NaN</td>\n",
              "      <td>1.0</td>\n",
              "      <td>730.0</td>\n",
              "      <td>NaN</td>\n",
              "      <td>NaN</td>\n",
              "      <td>2.0</td>\n",
              "      <td>147.0</td>\n",
              "      <td>3.80</td>\n",
              "      <td>840.0</td>\n",
              "      <td>846.0</td>\n",
              "      <td>5.0</td>\n",
              "      <td>ELEMENTARY</td>\n",
              "    </tr>\n",
              "  </tbody>\n",
              "</table>\n",
              "</div>"
            ],
            "text/plain": [
              "      SEQN  SDDSRVYR  RIDSTATR  ...  AGE_AT_EXAM  DMDEDUC  HIGHEST_EDUCATION\n",
              "0  31128.0       4.0       2.0  ...        138.0      4.0         ELEMENTARY\n",
              "1  31129.0       4.0       2.0  ...        186.0     10.0         ELEMENTARY\n",
              "2  31130.0       4.0       2.0  ...       1026.0      4.0         ELEMENTARY\n",
              "3  31131.0       4.0       2.0  ...        534.0      4.0         ELEMENTARY\n",
              "4  31132.0       4.0       2.0  ...        846.0      5.0         ELEMENTARY\n",
              "\n",
              "[5 rows x 22 columns]"
            ]
          },
          "metadata": {
            "tags": []
          },
          "execution_count": 232
        }
      ]
    },
    {
      "cell_type": "code",
      "metadata": {
        "id": "y2TBclY3jEL2"
      },
      "source": [
        "# As given in the document of demo_d, we can fill the missing values by converting the years into months at the time of screening."
      ],
      "execution_count": 104,
      "outputs": []
    },
    {
      "cell_type": "code",
      "metadata": {
        "id": "vs5KvC0oRmEE"
      },
      "source": [
        "df_final['AGE_AT_SCREENING'] = (df_final['RIDAGEYR'] * 12)"
      ],
      "execution_count": 105,
      "outputs": []
    },
    {
      "cell_type": "code",
      "metadata": {
        "id": "S61eKChjjBEb"
      },
      "source": [
        "# As we don't have the (RIDEXMON) column in the data, so we dont have the details when the examination conducted.\n",
        "# But it is mentioned that the examination is held at two intervals.\n",
        "# I am assuming that it may take 6 months as an average to conduct the examination for the citizens.\n",
        "# so i am taking +6  months to the RIDAGEMN as RIDAGEEX."
      ],
      "execution_count": 106,
      "outputs": []
    },
    {
      "cell_type": "code",
      "metadata": {
        "id": "lg40Ps4jlQo8"
      },
      "source": [
        "df_final['AGE_AT_EXAM'] = (df_final['AGE_AT_SCREENING'] + 6)"
      ],
      "execution_count": 107,
      "outputs": []
    },
    {
      "cell_type": "code",
      "metadata": {
        "colab": {
          "base_uri": "https://localhost:8080/",
          "height": 224
        },
        "id": "Ckbx4H6vmcsi",
        "outputId": "63fb2af8-feda-4dce-d2a1-2e2383ae67c7"
      },
      "source": [
        "df_final.head()"
      ],
      "execution_count": 108,
      "outputs": [
        {
          "output_type": "execute_result",
          "data": {
            "text/html": [
              "<div>\n",
              "<style scoped>\n",
              "    .dataframe tbody tr th:only-of-type {\n",
              "        vertical-align: middle;\n",
              "    }\n",
              "\n",
              "    .dataframe tbody tr th {\n",
              "        vertical-align: top;\n",
              "    }\n",
              "\n",
              "    .dataframe thead th {\n",
              "        text-align: right;\n",
              "    }\n",
              "</style>\n",
              "<table border=\"1\" class=\"dataframe\">\n",
              "  <thead>\n",
              "    <tr style=\"text-align: right;\">\n",
              "      <th></th>\n",
              "      <th>SEQN</th>\n",
              "      <th>SDDSRVYR</th>\n",
              "      <th>RIDSTATR</th>\n",
              "      <th>RIAGENDR</th>\n",
              "      <th>RIDAGEMN</th>\n",
              "      <th>RIDAGEEX</th>\n",
              "      <th>RIDAGEYR</th>\n",
              "      <th>RIDRETH1</th>\n",
              "      <th>DMDEDUC3</th>\n",
              "      <th>DMDEDUC2</th>\n",
              "      <th>DMDSCHOL</th>\n",
              "      <th>PEASCST1</th>\n",
              "      <th>PEASCTM1</th>\n",
              "      <th>PEASCCT1</th>\n",
              "      <th>BPXCHR</th>\n",
              "      <th>BPQ150A</th>\n",
              "      <th>LBXTC</th>\n",
              "      <th>LBDTCSI</th>\n",
              "      <th>AGE_AT_SCREENING</th>\n",
              "      <th>AGE_AT_EXAM</th>\n",
              "    </tr>\n",
              "  </thead>\n",
              "  <tbody>\n",
              "    <tr>\n",
              "      <th>0</th>\n",
              "      <td>31128.0</td>\n",
              "      <td>4.0</td>\n",
              "      <td>2.0</td>\n",
              "      <td>2.0</td>\n",
              "      <td>132.0</td>\n",
              "      <td>132.0</td>\n",
              "      <td>11.0</td>\n",
              "      <td>4.0</td>\n",
              "      <td>4.0</td>\n",
              "      <td>NaN</td>\n",
              "      <td>1.0</td>\n",
              "      <td>1.0</td>\n",
              "      <td>401.0</td>\n",
              "      <td>NaN</td>\n",
              "      <td>NaN</td>\n",
              "      <td>2.0</td>\n",
              "      <td>129.0</td>\n",
              "      <td>3.34</td>\n",
              "      <td>132.0</td>\n",
              "      <td>138.0</td>\n",
              "    </tr>\n",
              "    <tr>\n",
              "      <th>1</th>\n",
              "      <td>31129.0</td>\n",
              "      <td>4.0</td>\n",
              "      <td>2.0</td>\n",
              "      <td>1.0</td>\n",
              "      <td>189.0</td>\n",
              "      <td>190.0</td>\n",
              "      <td>15.0</td>\n",
              "      <td>4.0</td>\n",
              "      <td>10.0</td>\n",
              "      <td>NaN</td>\n",
              "      <td>1.0</td>\n",
              "      <td>1.0</td>\n",
              "      <td>664.0</td>\n",
              "      <td>NaN</td>\n",
              "      <td>NaN</td>\n",
              "      <td>1.0</td>\n",
              "      <td>170.0</td>\n",
              "      <td>4.40</td>\n",
              "      <td>180.0</td>\n",
              "      <td>186.0</td>\n",
              "    </tr>\n",
              "    <tr>\n",
              "      <th>2</th>\n",
              "      <td>31130.0</td>\n",
              "      <td>4.0</td>\n",
              "      <td>2.0</td>\n",
              "      <td>2.0</td>\n",
              "      <td>NaN</td>\n",
              "      <td>NaN</td>\n",
              "      <td>85.0</td>\n",
              "      <td>3.0</td>\n",
              "      <td>NaN</td>\n",
              "      <td>4.0</td>\n",
              "      <td>NaN</td>\n",
              "      <td>2.0</td>\n",
              "      <td>NaN</td>\n",
              "      <td>4.0</td>\n",
              "      <td>NaN</td>\n",
              "      <td>2.0</td>\n",
              "      <td>NaN</td>\n",
              "      <td>NaN</td>\n",
              "      <td>1020.0</td>\n",
              "      <td>1026.0</td>\n",
              "    </tr>\n",
              "    <tr>\n",
              "      <th>3</th>\n",
              "      <td>31131.0</td>\n",
              "      <td>4.0</td>\n",
              "      <td>2.0</td>\n",
              "      <td>2.0</td>\n",
              "      <td>535.0</td>\n",
              "      <td>536.0</td>\n",
              "      <td>44.0</td>\n",
              "      <td>4.0</td>\n",
              "      <td>NaN</td>\n",
              "      <td>4.0</td>\n",
              "      <td>NaN</td>\n",
              "      <td>1.0</td>\n",
              "      <td>827.0</td>\n",
              "      <td>NaN</td>\n",
              "      <td>NaN</td>\n",
              "      <td>2.0</td>\n",
              "      <td>105.0</td>\n",
              "      <td>2.72</td>\n",
              "      <td>528.0</td>\n",
              "      <td>534.0</td>\n",
              "    </tr>\n",
              "    <tr>\n",
              "      <th>4</th>\n",
              "      <td>31132.0</td>\n",
              "      <td>4.0</td>\n",
              "      <td>2.0</td>\n",
              "      <td>1.0</td>\n",
              "      <td>842.0</td>\n",
              "      <td>843.0</td>\n",
              "      <td>70.0</td>\n",
              "      <td>3.0</td>\n",
              "      <td>NaN</td>\n",
              "      <td>5.0</td>\n",
              "      <td>NaN</td>\n",
              "      <td>1.0</td>\n",
              "      <td>730.0</td>\n",
              "      <td>NaN</td>\n",
              "      <td>NaN</td>\n",
              "      <td>2.0</td>\n",
              "      <td>147.0</td>\n",
              "      <td>3.80</td>\n",
              "      <td>840.0</td>\n",
              "      <td>846.0</td>\n",
              "    </tr>\n",
              "  </tbody>\n",
              "</table>\n",
              "</div>"
            ],
            "text/plain": [
              "      SEQN  SDDSRVYR  RIDSTATR  ...  LBDTCSI  AGE_AT_SCREENING  AGE_AT_EXAM\n",
              "0  31128.0       4.0       2.0  ...     3.34             132.0        138.0\n",
              "1  31129.0       4.0       2.0  ...     4.40             180.0        186.0\n",
              "2  31130.0       4.0       2.0  ...      NaN            1020.0       1026.0\n",
              "3  31131.0       4.0       2.0  ...     2.72             528.0        534.0\n",
              "4  31132.0       4.0       2.0  ...     3.80             840.0        846.0\n",
              "\n",
              "[5 rows x 20 columns]"
            ]
          },
          "metadata": {
            "tags": []
          },
          "execution_count": 108
        }
      ]
    },
    {
      "cell_type": "code",
      "metadata": {
        "id": "SBy4HbOYZtqi"
      },
      "source": [
        "# As the values in the education section are not in a proper manner i formed an another column combining the two columns so that i have given the status\n",
        "# of their education as mentioned in the instructions and by following documents."
      ],
      "execution_count": 109,
      "outputs": []
    },
    {
      "cell_type": "code",
      "metadata": {
        "id": "T2jbCfYgoakS"
      },
      "source": [
        "df_final.DMDEDUC3 = round(df_final.DMDEDUC3,1)"
      ],
      "execution_count": 110,
      "outputs": []
    },
    {
      "cell_type": "code",
      "metadata": {
        "id": "yDtSs6HyWvVJ"
      },
      "source": [
        "df_final.DMDEDUC2 = df_final.DMDEDUC2.replace(np.nan,0)"
      ],
      "execution_count": 111,
      "outputs": []
    },
    {
      "cell_type": "code",
      "metadata": {
        "id": "F1rmCqM0Xteu"
      },
      "source": [
        "df_final.DMDEDUC3 = df_final.DMDEDUC3.replace(np.nan,0)"
      ],
      "execution_count": 112,
      "outputs": []
    },
    {
      "cell_type": "code",
      "metadata": {
        "id": "IXMp0vnlYOBG"
      },
      "source": [
        "df_final['DMDEDUC'] = df_final['DMDEDUC2'] + df_final['DMDEDUC3']"
      ],
      "execution_count": 113,
      "outputs": []
    },
    {
      "cell_type": "code",
      "metadata": {
        "id": "YgggXHiGaYgI"
      },
      "source": [
        "# created a new column (DMDEDUC)"
      ],
      "execution_count": 114,
      "outputs": []
    },
    {
      "cell_type": "code",
      "metadata": {
        "colab": {
          "base_uri": "https://localhost:8080/",
          "height": 224
        },
        "id": "3OnLEHPUYAtk",
        "outputId": "b38a15b2-0ff7-4136-dadf-9d62157b0dc1"
      },
      "source": [
        "df_final.head()"
      ],
      "execution_count": 115,
      "outputs": [
        {
          "output_type": "execute_result",
          "data": {
            "text/html": [
              "<div>\n",
              "<style scoped>\n",
              "    .dataframe tbody tr th:only-of-type {\n",
              "        vertical-align: middle;\n",
              "    }\n",
              "\n",
              "    .dataframe tbody tr th {\n",
              "        vertical-align: top;\n",
              "    }\n",
              "\n",
              "    .dataframe thead th {\n",
              "        text-align: right;\n",
              "    }\n",
              "</style>\n",
              "<table border=\"1\" class=\"dataframe\">\n",
              "  <thead>\n",
              "    <tr style=\"text-align: right;\">\n",
              "      <th></th>\n",
              "      <th>SEQN</th>\n",
              "      <th>SDDSRVYR</th>\n",
              "      <th>RIDSTATR</th>\n",
              "      <th>RIAGENDR</th>\n",
              "      <th>RIDAGEMN</th>\n",
              "      <th>RIDAGEEX</th>\n",
              "      <th>RIDAGEYR</th>\n",
              "      <th>RIDRETH1</th>\n",
              "      <th>DMDEDUC3</th>\n",
              "      <th>DMDEDUC2</th>\n",
              "      <th>DMDSCHOL</th>\n",
              "      <th>PEASCST1</th>\n",
              "      <th>PEASCTM1</th>\n",
              "      <th>PEASCCT1</th>\n",
              "      <th>BPXCHR</th>\n",
              "      <th>BPQ150A</th>\n",
              "      <th>LBXTC</th>\n",
              "      <th>LBDTCSI</th>\n",
              "      <th>AGE_AT_SCREENING</th>\n",
              "      <th>AGE_AT_EXAM</th>\n",
              "      <th>DMDEDUC</th>\n",
              "    </tr>\n",
              "  </thead>\n",
              "  <tbody>\n",
              "    <tr>\n",
              "      <th>0</th>\n",
              "      <td>31128.0</td>\n",
              "      <td>4.0</td>\n",
              "      <td>2.0</td>\n",
              "      <td>2.0</td>\n",
              "      <td>132.0</td>\n",
              "      <td>132.0</td>\n",
              "      <td>11.0</td>\n",
              "      <td>4.0</td>\n",
              "      <td>4.0</td>\n",
              "      <td>0.0</td>\n",
              "      <td>1.0</td>\n",
              "      <td>1.0</td>\n",
              "      <td>401.0</td>\n",
              "      <td>NaN</td>\n",
              "      <td>NaN</td>\n",
              "      <td>2.0</td>\n",
              "      <td>129.0</td>\n",
              "      <td>3.34</td>\n",
              "      <td>132.0</td>\n",
              "      <td>138.0</td>\n",
              "      <td>4.0</td>\n",
              "    </tr>\n",
              "    <tr>\n",
              "      <th>1</th>\n",
              "      <td>31129.0</td>\n",
              "      <td>4.0</td>\n",
              "      <td>2.0</td>\n",
              "      <td>1.0</td>\n",
              "      <td>189.0</td>\n",
              "      <td>190.0</td>\n",
              "      <td>15.0</td>\n",
              "      <td>4.0</td>\n",
              "      <td>10.0</td>\n",
              "      <td>0.0</td>\n",
              "      <td>1.0</td>\n",
              "      <td>1.0</td>\n",
              "      <td>664.0</td>\n",
              "      <td>NaN</td>\n",
              "      <td>NaN</td>\n",
              "      <td>1.0</td>\n",
              "      <td>170.0</td>\n",
              "      <td>4.40</td>\n",
              "      <td>180.0</td>\n",
              "      <td>186.0</td>\n",
              "      <td>10.0</td>\n",
              "    </tr>\n",
              "    <tr>\n",
              "      <th>2</th>\n",
              "      <td>31130.0</td>\n",
              "      <td>4.0</td>\n",
              "      <td>2.0</td>\n",
              "      <td>2.0</td>\n",
              "      <td>NaN</td>\n",
              "      <td>NaN</td>\n",
              "      <td>85.0</td>\n",
              "      <td>3.0</td>\n",
              "      <td>0.0</td>\n",
              "      <td>4.0</td>\n",
              "      <td>NaN</td>\n",
              "      <td>2.0</td>\n",
              "      <td>NaN</td>\n",
              "      <td>4.0</td>\n",
              "      <td>NaN</td>\n",
              "      <td>2.0</td>\n",
              "      <td>NaN</td>\n",
              "      <td>NaN</td>\n",
              "      <td>1020.0</td>\n",
              "      <td>1026.0</td>\n",
              "      <td>4.0</td>\n",
              "    </tr>\n",
              "    <tr>\n",
              "      <th>3</th>\n",
              "      <td>31131.0</td>\n",
              "      <td>4.0</td>\n",
              "      <td>2.0</td>\n",
              "      <td>2.0</td>\n",
              "      <td>535.0</td>\n",
              "      <td>536.0</td>\n",
              "      <td>44.0</td>\n",
              "      <td>4.0</td>\n",
              "      <td>0.0</td>\n",
              "      <td>4.0</td>\n",
              "      <td>NaN</td>\n",
              "      <td>1.0</td>\n",
              "      <td>827.0</td>\n",
              "      <td>NaN</td>\n",
              "      <td>NaN</td>\n",
              "      <td>2.0</td>\n",
              "      <td>105.0</td>\n",
              "      <td>2.72</td>\n",
              "      <td>528.0</td>\n",
              "      <td>534.0</td>\n",
              "      <td>4.0</td>\n",
              "    </tr>\n",
              "    <tr>\n",
              "      <th>4</th>\n",
              "      <td>31132.0</td>\n",
              "      <td>4.0</td>\n",
              "      <td>2.0</td>\n",
              "      <td>1.0</td>\n",
              "      <td>842.0</td>\n",
              "      <td>843.0</td>\n",
              "      <td>70.0</td>\n",
              "      <td>3.0</td>\n",
              "      <td>0.0</td>\n",
              "      <td>5.0</td>\n",
              "      <td>NaN</td>\n",
              "      <td>1.0</td>\n",
              "      <td>730.0</td>\n",
              "      <td>NaN</td>\n",
              "      <td>NaN</td>\n",
              "      <td>2.0</td>\n",
              "      <td>147.0</td>\n",
              "      <td>3.80</td>\n",
              "      <td>840.0</td>\n",
              "      <td>846.0</td>\n",
              "      <td>5.0</td>\n",
              "    </tr>\n",
              "  </tbody>\n",
              "</table>\n",
              "</div>"
            ],
            "text/plain": [
              "      SEQN  SDDSRVYR  RIDSTATR  ...  AGE_AT_SCREENING  AGE_AT_EXAM  DMDEDUC\n",
              "0  31128.0       4.0       2.0  ...             132.0        138.0      4.0\n",
              "1  31129.0       4.0       2.0  ...             180.0        186.0     10.0\n",
              "2  31130.0       4.0       2.0  ...            1020.0       1026.0      4.0\n",
              "3  31131.0       4.0       2.0  ...             528.0        534.0      4.0\n",
              "4  31132.0       4.0       2.0  ...             840.0        846.0      5.0\n",
              "\n",
              "[5 rows x 21 columns]"
            ]
          },
          "metadata": {
            "tags": []
          },
          "execution_count": 115
        }
      ]
    },
    {
      "cell_type": "code",
      "metadata": {
        "id": "ej6JJExIahgv"
      },
      "source": [
        "# Giving the status of the education.\n",
        "# by using the Binning"
      ],
      "execution_count": 116,
      "outputs": []
    },
    {
      "cell_type": "code",
      "metadata": {
        "id": "cYEnpwwMG31K"
      },
      "source": [
        "bins = [0, 12, 16, 99]"
      ],
      "execution_count": 117,
      "outputs": []
    },
    {
      "cell_type": "code",
      "metadata": {
        "id": "1sxfLZ15Kxj1"
      },
      "source": [
        "edu_level = ['ELEMENTARY','HIGHSCHOOL','COLLEGE']"
      ],
      "execution_count": 118,
      "outputs": []
    },
    {
      "cell_type": "code",
      "metadata": {
        "id": "XF3MA5tfLAxS"
      },
      "source": [
        "df_final['HIGHEST_EDUCATION'] = pd.cut(df_final['DMDEDUC'], bins, labels=edu_level)"
      ],
      "execution_count": 119,
      "outputs": []
    },
    {
      "cell_type": "code",
      "metadata": {
        "id": "0r1FMiRtP8wn"
      },
      "source": [
        "# Assigning the Highest level of education to the person."
      ],
      "execution_count": 120,
      "outputs": []
    },
    {
      "cell_type": "code",
      "metadata": {
        "id": "SK2DCHLPQKCF"
      },
      "source": [
        "# Filling the NaN as 'ELEMENTARY', as we don't have the perfect data of their education in the document also"
      ],
      "execution_count": 121,
      "outputs": []
    },
    {
      "cell_type": "code",
      "metadata": {
        "id": "E1hbr1YeOqBP"
      },
      "source": [
        "df_final['HIGHEST_EDUCATION'] = df_final['HIGHEST_EDUCATION'].fillna('ELEMENTARY')"
      ],
      "execution_count": 122,
      "outputs": []
    },
    {
      "cell_type": "code",
      "metadata": {
        "id": "psISydXtQelO"
      },
      "source": [
        "# Here is the status of their highest level of their education."
      ],
      "execution_count": 123,
      "outputs": []
    },
    {
      "cell_type": "code",
      "metadata": {
        "colab": {
          "base_uri": "https://localhost:8080/",
          "height": 224
        },
        "id": "7R4f3ho7OJeZ",
        "outputId": "524d8b83-1549-4a6a-c46f-7b5762d22f02"
      },
      "source": [
        "df_final.head()"
      ],
      "execution_count": 231,
      "outputs": [
        {
          "output_type": "execute_result",
          "data": {
            "text/html": [
              "<div>\n",
              "<style scoped>\n",
              "    .dataframe tbody tr th:only-of-type {\n",
              "        vertical-align: middle;\n",
              "    }\n",
              "\n",
              "    .dataframe tbody tr th {\n",
              "        vertical-align: top;\n",
              "    }\n",
              "\n",
              "    .dataframe thead th {\n",
              "        text-align: right;\n",
              "    }\n",
              "</style>\n",
              "<table border=\"1\" class=\"dataframe\">\n",
              "  <thead>\n",
              "    <tr style=\"text-align: right;\">\n",
              "      <th></th>\n",
              "      <th>SEQN</th>\n",
              "      <th>SDDSRVYR</th>\n",
              "      <th>RIDSTATR</th>\n",
              "      <th>RIAGENDR</th>\n",
              "      <th>RIDAGEMN</th>\n",
              "      <th>RIDAGEEX</th>\n",
              "      <th>RIDAGEYR</th>\n",
              "      <th>RIDRETH1</th>\n",
              "      <th>DMDEDUC3</th>\n",
              "      <th>DMDEDUC2</th>\n",
              "      <th>DMDSCHOL</th>\n",
              "      <th>PEASCST1</th>\n",
              "      <th>PEASCTM1</th>\n",
              "      <th>PEASCCT1</th>\n",
              "      <th>BPXCHR</th>\n",
              "      <th>BPQ150A</th>\n",
              "      <th>LBXTC</th>\n",
              "      <th>LBDTCSI</th>\n",
              "      <th>AGE_AT_SCREENING</th>\n",
              "      <th>AGE_AT_EXAM</th>\n",
              "      <th>DMDEDUC</th>\n",
              "      <th>HIGHEST_EDUCATION</th>\n",
              "    </tr>\n",
              "  </thead>\n",
              "  <tbody>\n",
              "    <tr>\n",
              "      <th>0</th>\n",
              "      <td>31128.0</td>\n",
              "      <td>4.0</td>\n",
              "      <td>2.0</td>\n",
              "      <td>2.0</td>\n",
              "      <td>132.0</td>\n",
              "      <td>132.0</td>\n",
              "      <td>11.0</td>\n",
              "      <td>4.0</td>\n",
              "      <td>4.0</td>\n",
              "      <td>0.0</td>\n",
              "      <td>1.0</td>\n",
              "      <td>1.0</td>\n",
              "      <td>401.0</td>\n",
              "      <td>NaN</td>\n",
              "      <td>NaN</td>\n",
              "      <td>2.0</td>\n",
              "      <td>129.0</td>\n",
              "      <td>3.34</td>\n",
              "      <td>132.0</td>\n",
              "      <td>138.0</td>\n",
              "      <td>4.0</td>\n",
              "      <td>ELEMENTARY</td>\n",
              "    </tr>\n",
              "    <tr>\n",
              "      <th>1</th>\n",
              "      <td>31129.0</td>\n",
              "      <td>4.0</td>\n",
              "      <td>2.0</td>\n",
              "      <td>1.0</td>\n",
              "      <td>189.0</td>\n",
              "      <td>190.0</td>\n",
              "      <td>15.0</td>\n",
              "      <td>4.0</td>\n",
              "      <td>10.0</td>\n",
              "      <td>0.0</td>\n",
              "      <td>1.0</td>\n",
              "      <td>1.0</td>\n",
              "      <td>664.0</td>\n",
              "      <td>NaN</td>\n",
              "      <td>NaN</td>\n",
              "      <td>1.0</td>\n",
              "      <td>170.0</td>\n",
              "      <td>4.40</td>\n",
              "      <td>180.0</td>\n",
              "      <td>186.0</td>\n",
              "      <td>10.0</td>\n",
              "      <td>ELEMENTARY</td>\n",
              "    </tr>\n",
              "    <tr>\n",
              "      <th>2</th>\n",
              "      <td>31130.0</td>\n",
              "      <td>4.0</td>\n",
              "      <td>2.0</td>\n",
              "      <td>2.0</td>\n",
              "      <td>NaN</td>\n",
              "      <td>NaN</td>\n",
              "      <td>85.0</td>\n",
              "      <td>3.0</td>\n",
              "      <td>0.0</td>\n",
              "      <td>4.0</td>\n",
              "      <td>NaN</td>\n",
              "      <td>2.0</td>\n",
              "      <td>NaN</td>\n",
              "      <td>4.0</td>\n",
              "      <td>NaN</td>\n",
              "      <td>2.0</td>\n",
              "      <td>NaN</td>\n",
              "      <td>NaN</td>\n",
              "      <td>1020.0</td>\n",
              "      <td>1026.0</td>\n",
              "      <td>4.0</td>\n",
              "      <td>ELEMENTARY</td>\n",
              "    </tr>\n",
              "    <tr>\n",
              "      <th>3</th>\n",
              "      <td>31131.0</td>\n",
              "      <td>4.0</td>\n",
              "      <td>2.0</td>\n",
              "      <td>2.0</td>\n",
              "      <td>535.0</td>\n",
              "      <td>536.0</td>\n",
              "      <td>44.0</td>\n",
              "      <td>4.0</td>\n",
              "      <td>0.0</td>\n",
              "      <td>4.0</td>\n",
              "      <td>NaN</td>\n",
              "      <td>1.0</td>\n",
              "      <td>827.0</td>\n",
              "      <td>NaN</td>\n",
              "      <td>NaN</td>\n",
              "      <td>2.0</td>\n",
              "      <td>105.0</td>\n",
              "      <td>2.72</td>\n",
              "      <td>528.0</td>\n",
              "      <td>534.0</td>\n",
              "      <td>4.0</td>\n",
              "      <td>ELEMENTARY</td>\n",
              "    </tr>\n",
              "    <tr>\n",
              "      <th>4</th>\n",
              "      <td>31132.0</td>\n",
              "      <td>4.0</td>\n",
              "      <td>2.0</td>\n",
              "      <td>1.0</td>\n",
              "      <td>842.0</td>\n",
              "      <td>843.0</td>\n",
              "      <td>70.0</td>\n",
              "      <td>3.0</td>\n",
              "      <td>0.0</td>\n",
              "      <td>5.0</td>\n",
              "      <td>NaN</td>\n",
              "      <td>1.0</td>\n",
              "      <td>730.0</td>\n",
              "      <td>NaN</td>\n",
              "      <td>NaN</td>\n",
              "      <td>2.0</td>\n",
              "      <td>147.0</td>\n",
              "      <td>3.80</td>\n",
              "      <td>840.0</td>\n",
              "      <td>846.0</td>\n",
              "      <td>5.0</td>\n",
              "      <td>ELEMENTARY</td>\n",
              "    </tr>\n",
              "  </tbody>\n",
              "</table>\n",
              "</div>"
            ],
            "text/plain": [
              "      SEQN  SDDSRVYR  RIDSTATR  ...  AGE_AT_EXAM  DMDEDUC  HIGHEST_EDUCATION\n",
              "0  31128.0       4.0       2.0  ...        138.0      4.0         ELEMENTARY\n",
              "1  31129.0       4.0       2.0  ...        186.0     10.0         ELEMENTARY\n",
              "2  31130.0       4.0       2.0  ...       1026.0      4.0         ELEMENTARY\n",
              "3  31131.0       4.0       2.0  ...        534.0      4.0         ELEMENTARY\n",
              "4  31132.0       4.0       2.0  ...        846.0      5.0         ELEMENTARY\n",
              "\n",
              "[5 rows x 22 columns]"
            ]
          },
          "metadata": {
            "tags": []
          },
          "execution_count": 231
        }
      ]
    },
    {
      "cell_type": "code",
      "metadata": {
        "id": "y5e5W8UrSHgZ"
      },
      "source": [
        "# Going to the retired section."
      ],
      "execution_count": 125,
      "outputs": []
    },
    {
      "cell_type": "code",
      "metadata": {
        "id": "13JUaQUePgKR"
      },
      "source": [
        "retired = pd.read_csv('https://raw.githubusercontent.com/sandeeptuluri/codvo-ai/main/DEMO_RETIRED.CSV')"
      ],
      "execution_count": 126,
      "outputs": []
    },
    {
      "cell_type": "code",
      "metadata": {
        "colab": {
          "base_uri": "https://localhost:8080/",
          "height": 204
        },
        "id": "vleOnSt4K58X",
        "outputId": "f84d6d8b-b1f5-47f9-81f2-8fd1046690be"
      },
      "source": [
        "retired.head()"
      ],
      "execution_count": 127,
      "outputs": [
        {
          "output_type": "execute_result",
          "data": {
            "text/html": [
              "<div>\n",
              "<style scoped>\n",
              "    .dataframe tbody tr th:only-of-type {\n",
              "        vertical-align: middle;\n",
              "    }\n",
              "\n",
              "    .dataframe tbody tr th {\n",
              "        vertical-align: top;\n",
              "    }\n",
              "\n",
              "    .dataframe thead th {\n",
              "        text-align: right;\n",
              "    }\n",
              "</style>\n",
              "<table border=\"1\" class=\"dataframe\">\n",
              "  <thead>\n",
              "    <tr style=\"text-align: right;\">\n",
              "      <th></th>\n",
              "      <th>SEQN</th>\n",
              "      <th>RETIRED</th>\n",
              "    </tr>\n",
              "  </thead>\n",
              "  <tbody>\n",
              "    <tr>\n",
              "      <th>0</th>\n",
              "      <td>31127.0</td>\n",
              "      <td>NaN</td>\n",
              "    </tr>\n",
              "    <tr>\n",
              "      <th>1</th>\n",
              "      <td>31128.0</td>\n",
              "      <td>0.0</td>\n",
              "    </tr>\n",
              "    <tr>\n",
              "      <th>2</th>\n",
              "      <td>31129.0</td>\n",
              "      <td>0.0</td>\n",
              "    </tr>\n",
              "    <tr>\n",
              "      <th>3</th>\n",
              "      <td>31130.0</td>\n",
              "      <td>1.0</td>\n",
              "    </tr>\n",
              "    <tr>\n",
              "      <th>4</th>\n",
              "      <td>31131.0</td>\n",
              "      <td>0.0</td>\n",
              "    </tr>\n",
              "  </tbody>\n",
              "</table>\n",
              "</div>"
            ],
            "text/plain": [
              "      SEQN  RETIRED\n",
              "0  31127.0      NaN\n",
              "1  31128.0      0.0\n",
              "2  31129.0      0.0\n",
              "3  31130.0      1.0\n",
              "4  31131.0      0.0"
            ]
          },
          "metadata": {
            "tags": []
          },
          "execution_count": 127
        }
      ]
    },
    {
      "cell_type": "code",
      "metadata": {
        "colab": {
          "base_uri": "https://localhost:8080/",
          "height": 405
        },
        "id": "Gu8xEnlAMn8K",
        "outputId": "d82600d5-72fb-4144-86a0-4a3ee9506f07"
      },
      "source": [
        "plt.figure(figsize=(18,6))\n",
        "sns.countplot(x='RIDAGEYR',data=df_final)"
      ],
      "execution_count": 128,
      "outputs": [
        {
          "output_type": "execute_result",
          "data": {
            "text/plain": [
              "<matplotlib.axes._subplots.AxesSubplot at 0x7fac71e04610>"
            ]
          },
          "metadata": {
            "tags": []
          },
          "execution_count": 128
        },
        {
          "output_type": "display_data",
          "data": {
            "image/png": "[encoded data removed]",
            "text/plain": [
              "<Figure size 1296x432 with 1 Axes>"
            ]
          },
          "metadata": {
            "tags": [],
            "needs_background": "light"
          }
        }
      ]
    },
    {
      "cell_type": "code",
      "metadata": {
        "colab": {
          "base_uri": "https://localhost:8080/",
          "height": 282
        },
        "id": "UkoGIPpjQaMj",
        "outputId": "10c66750-e4c2-46b7-f41a-386319d429d9"
      },
      "source": [
        "sns.heatmap(retired.isnull(), yticklabels=False, cmap='viridis', cbar= False)"
      ],
      "execution_count": 129,
      "outputs": [
        {
          "output_type": "execute_result",
          "data": {
            "text/plain": [
              "<matplotlib.axes._subplots.AxesSubplot at 0x7fac744c0190>"
            ]
          },
          "metadata": {
            "tags": []
          },
          "execution_count": 129
        },
        {
          "output_type": "display_data",
          "data": {
            "image/png": "[encoded data removed]",
            "text/plain": [
              "<Figure size 432x288 with 1 Axes>"
            ]
          },
          "metadata": {
            "tags": [],
            "needs_background": "light"
          }
        }
      ]
    },
    {
      "cell_type": "code",
      "metadata": {
        "id": "RGHaNOvGNUEd"
      },
      "source": [
        "# From the countplot we know that we are having the many people who are aged more than 67.\n",
        "# From the heatmap we know that we are having many null values."
      ],
      "execution_count": 130,
      "outputs": []
    },
    {
      "cell_type": "code",
      "metadata": {
        "id": "o1B7SzwrN8fz"
      },
      "source": [
        "# As per the rules in the united states the retirement age is around 67. so, i am taking the 67 is the retirement age to fill the null values."
      ],
      "execution_count": 131,
      "outputs": []
    },
    {
      "cell_type": "code",
      "metadata": {
        "id": "g7RK8U9RSfSR"
      },
      "source": [
        "# For those who are having 67 and above i am assigning them as retired."
      ],
      "execution_count": 132,
      "outputs": []
    },
    {
      "cell_type": "code",
      "metadata": {
        "id": "_yF4xDPAVzeF"
      },
      "source": [
        "final = pd.merge(df_final,retired,on='SEQN')"
      ],
      "execution_count": 133,
      "outputs": []
    },
    {
      "cell_type": "code",
      "metadata": {
        "colab": {
          "base_uri": "https://localhost:8080/",
          "height": 224
        },
        "id": "f42RIazYWdpG",
        "outputId": "8a99b1d0-a0a6-4f6a-b624-f464fb162b1b"
      },
      "source": [
        "final.head()"
      ],
      "execution_count": 134,
      "outputs": [
        {
          "output_type": "execute_result",
          "data": {
            "text/html": [
              "<div>\n",
              "<style scoped>\n",
              "    .dataframe tbody tr th:only-of-type {\n",
              "        vertical-align: middle;\n",
              "    }\n",
              "\n",
              "    .dataframe tbody tr th {\n",
              "        vertical-align: top;\n",
              "    }\n",
              "\n",
              "    .dataframe thead th {\n",
              "        text-align: right;\n",
              "    }\n",
              "</style>\n",
              "<table border=\"1\" class=\"dataframe\">\n",
              "  <thead>\n",
              "    <tr style=\"text-align: right;\">\n",
              "      <th></th>\n",
              "      <th>SEQN</th>\n",
              "      <th>SDDSRVYR</th>\n",
              "      <th>RIDSTATR</th>\n",
              "      <th>RIAGENDR</th>\n",
              "      <th>RIDAGEMN</th>\n",
              "      <th>RIDAGEEX</th>\n",
              "      <th>RIDAGEYR</th>\n",
              "      <th>RIDRETH1</th>\n",
              "      <th>DMDEDUC3</th>\n",
              "      <th>DMDEDUC2</th>\n",
              "      <th>DMDSCHOL</th>\n",
              "      <th>PEASCST1</th>\n",
              "      <th>PEASCTM1</th>\n",
              "      <th>PEASCCT1</th>\n",
              "      <th>BPXCHR</th>\n",
              "      <th>BPQ150A</th>\n",
              "      <th>LBXTC</th>\n",
              "      <th>LBDTCSI</th>\n",
              "      <th>AGE_AT_SCREENING</th>\n",
              "      <th>AGE_AT_EXAM</th>\n",
              "      <th>DMDEDUC</th>\n",
              "      <th>HIGHEST_EDUCATION</th>\n",
              "      <th>RETIRED</th>\n",
              "    </tr>\n",
              "  </thead>\n",
              "  <tbody>\n",
              "    <tr>\n",
              "      <th>0</th>\n",
              "      <td>31128.0</td>\n",
              "      <td>4.0</td>\n",
              "      <td>2.0</td>\n",
              "      <td>2.0</td>\n",
              "      <td>132.0</td>\n",
              "      <td>132.0</td>\n",
              "      <td>11.0</td>\n",
              "      <td>4.0</td>\n",
              "      <td>4.0</td>\n",
              "      <td>0.0</td>\n",
              "      <td>1.0</td>\n",
              "      <td>1.0</td>\n",
              "      <td>401.0</td>\n",
              "      <td>NaN</td>\n",
              "      <td>NaN</td>\n",
              "      <td>2.0</td>\n",
              "      <td>129.0</td>\n",
              "      <td>3.34</td>\n",
              "      <td>132.0</td>\n",
              "      <td>138.0</td>\n",
              "      <td>4.0</td>\n",
              "      <td>ELEMENTARY</td>\n",
              "      <td>0.0</td>\n",
              "    </tr>\n",
              "    <tr>\n",
              "      <th>1</th>\n",
              "      <td>31129.0</td>\n",
              "      <td>4.0</td>\n",
              "      <td>2.0</td>\n",
              "      <td>1.0</td>\n",
              "      <td>189.0</td>\n",
              "      <td>190.0</td>\n",
              "      <td>15.0</td>\n",
              "      <td>4.0</td>\n",
              "      <td>10.0</td>\n",
              "      <td>0.0</td>\n",
              "      <td>1.0</td>\n",
              "      <td>1.0</td>\n",
              "      <td>664.0</td>\n",
              "      <td>NaN</td>\n",
              "      <td>NaN</td>\n",
              "      <td>1.0</td>\n",
              "      <td>170.0</td>\n",
              "      <td>4.40</td>\n",
              "      <td>180.0</td>\n",
              "      <td>186.0</td>\n",
              "      <td>10.0</td>\n",
              "      <td>ELEMENTARY</td>\n",
              "      <td>0.0</td>\n",
              "    </tr>\n",
              "    <tr>\n",
              "      <th>2</th>\n",
              "      <td>31130.0</td>\n",
              "      <td>4.0</td>\n",
              "      <td>2.0</td>\n",
              "      <td>2.0</td>\n",
              "      <td>NaN</td>\n",
              "      <td>NaN</td>\n",
              "      <td>85.0</td>\n",
              "      <td>3.0</td>\n",
              "      <td>0.0</td>\n",
              "      <td>4.0</td>\n",
              "      <td>NaN</td>\n",
              "      <td>2.0</td>\n",
              "      <td>NaN</td>\n",
              "      <td>4.0</td>\n",
              "      <td>NaN</td>\n",
              "      <td>2.0</td>\n",
              "      <td>NaN</td>\n",
              "      <td>NaN</td>\n",
              "      <td>1020.0</td>\n",
              "      <td>1026.0</td>\n",
              "      <td>4.0</td>\n",
              "      <td>ELEMENTARY</td>\n",
              "      <td>1.0</td>\n",
              "    </tr>\n",
              "    <tr>\n",
              "      <th>3</th>\n",
              "      <td>31131.0</td>\n",
              "      <td>4.0</td>\n",
              "      <td>2.0</td>\n",
              "      <td>2.0</td>\n",
              "      <td>535.0</td>\n",
              "      <td>536.0</td>\n",
              "      <td>44.0</td>\n",
              "      <td>4.0</td>\n",
              "      <td>0.0</td>\n",
              "      <td>4.0</td>\n",
              "      <td>NaN</td>\n",
              "      <td>1.0</td>\n",
              "      <td>827.0</td>\n",
              "      <td>NaN</td>\n",
              "      <td>NaN</td>\n",
              "      <td>2.0</td>\n",
              "      <td>105.0</td>\n",
              "      <td>2.72</td>\n",
              "      <td>528.0</td>\n",
              "      <td>534.0</td>\n",
              "      <td>4.0</td>\n",
              "      <td>ELEMENTARY</td>\n",
              "      <td>0.0</td>\n",
              "    </tr>\n",
              "    <tr>\n",
              "      <th>4</th>\n",
              "      <td>31132.0</td>\n",
              "      <td>4.0</td>\n",
              "      <td>2.0</td>\n",
              "      <td>1.0</td>\n",
              "      <td>842.0</td>\n",
              "      <td>843.0</td>\n",
              "      <td>70.0</td>\n",
              "      <td>3.0</td>\n",
              "      <td>0.0</td>\n",
              "      <td>5.0</td>\n",
              "      <td>NaN</td>\n",
              "      <td>1.0</td>\n",
              "      <td>730.0</td>\n",
              "      <td>NaN</td>\n",
              "      <td>NaN</td>\n",
              "      <td>2.0</td>\n",
              "      <td>147.0</td>\n",
              "      <td>3.80</td>\n",
              "      <td>840.0</td>\n",
              "      <td>846.0</td>\n",
              "      <td>5.0</td>\n",
              "      <td>ELEMENTARY</td>\n",
              "      <td>1.0</td>\n",
              "    </tr>\n",
              "  </tbody>\n",
              "</table>\n",
              "</div>"
            ],
            "text/plain": [
              "      SEQN  SDDSRVYR  RIDSTATR  ...  DMDEDUC  HIGHEST_EDUCATION  RETIRED\n",
              "0  31128.0       4.0       2.0  ...      4.0         ELEMENTARY      0.0\n",
              "1  31129.0       4.0       2.0  ...     10.0         ELEMENTARY      0.0\n",
              "2  31130.0       4.0       2.0  ...      4.0         ELEMENTARY      1.0\n",
              "3  31131.0       4.0       2.0  ...      4.0         ELEMENTARY      0.0\n",
              "4  31132.0       4.0       2.0  ...      5.0         ELEMENTARY      1.0\n",
              "\n",
              "[5 rows x 23 columns]"
            ]
          },
          "metadata": {
            "tags": []
          },
          "execution_count": 134
        }
      ]
    },
    {
      "cell_type": "code",
      "metadata": {
        "colab": {
          "base_uri": "https://localhost:8080/"
        },
        "id": "v3LHRHC7WP8I",
        "outputId": "f7daf26f-b674-4d5e-afca-49fa0af07f1b"
      },
      "source": [
        "final.RETIRED.isnull().sum()"
      ],
      "execution_count": 135,
      "outputs": [
        {
          "output_type": "execute_result",
          "data": {
            "text/plain": [
              "0"
            ]
          },
          "metadata": {
            "tags": []
          },
          "execution_count": 135
        }
      ]
    },
    {
      "cell_type": "code",
      "metadata": {
        "id": "jKKTpO_DYrFQ"
      },
      "source": [
        "# but we can assign the resigned status only after knowing the age, after merging the dataframes we are not getting the age of the persons with null values"
      ],
      "execution_count": 144,
      "outputs": []
    },
    {
      "cell_type": "code",
      "metadata": {
        "colab": {
          "base_uri": "https://localhost:8080/",
          "height": 380
        },
        "id": "V0lK7UsmW3NY",
        "outputId": "985d7826-5204-492f-dac8-a894e82cc1a9"
      },
      "source": [
        "sns.heatmap(final.isnull(), yticklabels=False, cmap='viridis', cbar=False)"
      ],
      "execution_count": 142,
      "outputs": [
        {
          "output_type": "execute_result",
          "data": {
            "text/plain": [
              "<matplotlib.axes._subplots.AxesSubplot at 0x7fac74145810>"
            ]
          },
          "metadata": {
            "tags": []
          },
          "execution_count": 142
        },
        {
          "output_type": "display_data",
          "data": {
            "image/png": "[encoded data removed]",
            "text/plain": [
              "<Figure size 432x288 with 1 Axes>"
            ]
          },
          "metadata": {
            "tags": [],
            "needs_background": "light"
          }
        }
      ]
    },
    {
      "cell_type": "markdown",
      "metadata": {
        "id": "L0vaRPYgoTc9"
      },
      "source": [
        "Now there are no null values,from the heatmap in the retired column"
      ]
    },
    {
      "cell_type": "markdown",
      "metadata": {
        "id": "eiLu5YY32Uuc"
      },
      "source": [
        "..."
      ]
    },
    {
      "cell_type": "markdown",
      "metadata": {
        "id": "Z3TekrHz2VwV"
      },
      "source": [
        "....."
      ]
    },
    {
      "cell_type": "markdown",
      "metadata": {
        "id": "cIf0IAj8oJ_2"
      },
      "source": [
        "EXERCISE - 2 : MODEL BUILDING"
      ]
    },
    {
      "cell_type": "markdown",
      "metadata": {
        "id": "NzK0dM8D2XJ4"
      },
      "source": [
        "....."
      ]
    },
    {
      "cell_type": "markdown",
      "metadata": {
        "id": "7ro0tR8woNer"
      },
      "source": [
        " Building model for the customers who are going to claim their insurance in their first year."
      ]
    },
    {
      "cell_type": "markdown",
      "metadata": {
        "id": "h5hUxtbuoQWb"
      },
      "source": [
        "Loading the data."
      ]
    },
    {
      "cell_type": "code",
      "metadata": {
        "id": "wKTH1pZgbP3X"
      },
      "source": [
        "claim_pred = pd.read_csv(\"https://raw.githubusercontent.com/sandeeptuluri/codvo-ai/main/claim_prediction.csv\")"
      ],
      "execution_count": 192,
      "outputs": []
    },
    {
      "cell_type": "code",
      "metadata": {
        "colab": {
          "base_uri": "https://localhost:8080/",
          "height": 204
        },
        "id": "o4EeteGdbuHy",
        "outputId": "d34e2f3a-de5d-4968-84aa-ccddf180d636"
      },
      "source": [
        "claim_pred.head()"
      ],
      "execution_count": 193,
      "outputs": [
        {
          "output_type": "execute_result",
          "data": {
            "text/html": [
              "<div>\n",
              "<style scoped>\n",
              "    .dataframe tbody tr th:only-of-type {\n",
              "        vertical-align: middle;\n",
              "    }\n",
              "\n",
              "    .dataframe tbody tr th {\n",
              "        vertical-align: top;\n",
              "    }\n",
              "\n",
              "    .dataframe thead th {\n",
              "        text-align: right;\n",
              "    }\n",
              "</style>\n",
              "<table border=\"1\" class=\"dataframe\">\n",
              "  <thead>\n",
              "    <tr style=\"text-align: right;\">\n",
              "      <th></th>\n",
              "      <th>EADDC</th>\n",
              "      <th>EAFXA</th>\n",
              "      <th>FDDBC</th>\n",
              "      <th>AFDDA</th>\n",
              "      <th>AXCXA</th>\n",
              "      <th>EXCCE</th>\n",
              "      <th>FBXFC</th>\n",
              "      <th>DFFEC</th>\n",
              "      <th>CEXAE</th>\n",
              "      <th>BBADX</th>\n",
              "      <th>CLAIM</th>\n",
              "    </tr>\n",
              "  </thead>\n",
              "  <tbody>\n",
              "    <tr>\n",
              "      <th>0</th>\n",
              "      <td>-0.193513</td>\n",
              "      <td>0.021062</td>\n",
              "      <td>-0.870351</td>\n",
              "      <td>4.314903</td>\n",
              "      <td>-4.260162</td>\n",
              "      <td>-1.259531</td>\n",
              "      <td>0.175603</td>\n",
              "      <td>-0.942903</td>\n",
              "      <td>2.333260</td>\n",
              "      <td>4.678712</td>\n",
              "      <td>0</td>\n",
              "    </tr>\n",
              "    <tr>\n",
              "      <th>1</th>\n",
              "      <td>2.667844</td>\n",
              "      <td>-3.195978</td>\n",
              "      <td>2.718651</td>\n",
              "      <td>-0.885312</td>\n",
              "      <td>2.964261</td>\n",
              "      <td>2.161336</td>\n",
              "      <td>2.008505</td>\n",
              "      <td>-0.296360</td>\n",
              "      <td>-0.610780</td>\n",
              "      <td>-2.545978</td>\n",
              "      <td>1</td>\n",
              "    </tr>\n",
              "    <tr>\n",
              "      <th>2</th>\n",
              "      <td>2.280602</td>\n",
              "      <td>0.048539</td>\n",
              "      <td>-2.179863</td>\n",
              "      <td>-0.380866</td>\n",
              "      <td>-1.212960</td>\n",
              "      <td>2.097278</td>\n",
              "      <td>5.131315</td>\n",
              "      <td>-1.250050</td>\n",
              "      <td>2.362880</td>\n",
              "      <td>2.207307</td>\n",
              "      <td>0</td>\n",
              "    </tr>\n",
              "    <tr>\n",
              "      <th>3</th>\n",
              "      <td>0.592376</td>\n",
              "      <td>-1.590548</td>\n",
              "      <td>2.329976</td>\n",
              "      <td>-1.416489</td>\n",
              "      <td>1.743390</td>\n",
              "      <td>3.040990</td>\n",
              "      <td>2.371740</td>\n",
              "      <td>-0.190549</td>\n",
              "      <td>0.890761</td>\n",
              "      <td>-2.671923</td>\n",
              "      <td>0</td>\n",
              "    </tr>\n",
              "    <tr>\n",
              "      <th>4</th>\n",
              "      <td>1.236896</td>\n",
              "      <td>-0.656180</td>\n",
              "      <td>-0.381064</td>\n",
              "      <td>-2.332379</td>\n",
              "      <td>0.660684</td>\n",
              "      <td>2.055621</td>\n",
              "      <td>0.478162</td>\n",
              "      <td>-0.269513</td>\n",
              "      <td>2.614886</td>\n",
              "      <td>-3.655301</td>\n",
              "      <td>0</td>\n",
              "    </tr>\n",
              "  </tbody>\n",
              "</table>\n",
              "</div>"
            ],
            "text/plain": [
              "      EADDC     EAFXA     FDDBC     AFDDA  ...     DFFEC     CEXAE     BBADX  CLAIM\n",
              "0 -0.193513  0.021062 -0.870351  4.314903  ... -0.942903  2.333260  4.678712      0\n",
              "1  2.667844 -3.195978  2.718651 -0.885312  ... -0.296360 -0.610780 -2.545978      1\n",
              "2  2.280602  0.048539 -2.179863 -0.380866  ... -1.250050  2.362880  2.207307      0\n",
              "3  0.592376 -1.590548  2.329976 -1.416489  ... -0.190549  0.890761 -2.671923      0\n",
              "4  1.236896 -0.656180 -0.381064 -2.332379  ... -0.269513  2.614886 -3.655301      0\n",
              "\n",
              "[5 rows x 11 columns]"
            ]
          },
          "metadata": {
            "tags": []
          },
          "execution_count": 193
        }
      ]
    },
    {
      "cell_type": "code",
      "metadata": {
        "id": "U8QDEaFHbwe_"
      },
      "source": [
        "# let's check the info and features of the dataset."
      ],
      "execution_count": 194,
      "outputs": []
    },
    {
      "cell_type": "code",
      "metadata": {
        "colab": {
          "base_uri": "https://localhost:8080/"
        },
        "id": "6lZzJdpAcs0P",
        "outputId": "200d1c48-8c73-48e4-ef16-f652164826d2"
      },
      "source": [
        "claim_pred.info()"
      ],
      "execution_count": 195,
      "outputs": [
        {
          "output_type": "stream",
          "text": [
            "<class 'pandas.core.frame.DataFrame'>\n",
            "RangeIndex: 10000 entries, 0 to 9999\n",
            "Data columns (total 11 columns):\n",
            " #   Column  Non-Null Count  Dtype  \n",
            "---  ------  --------------  -----  \n",
            " 0   EADDC   10000 non-null  float64\n",
            " 1   EAFXA   10000 non-null  float64\n",
            " 2   FDDBC   10000 non-null  float64\n",
            " 3   AFDDA   10000 non-null  float64\n",
            " 4   AXCXA   10000 non-null  float64\n",
            " 5   EXCCE   10000 non-null  float64\n",
            " 6   FBXFC   10000 non-null  float64\n",
            " 7   DFFEC   10000 non-null  float64\n",
            " 8   CEXAE   10000 non-null  float64\n",
            " 9   BBADX   10000 non-null  float64\n",
            " 10  CLAIM   10000 non-null  int64  \n",
            "dtypes: float64(10), int64(1)\n",
            "memory usage: 859.5 KB\n"
          ],
          "name": "stdout"
        }
      ]
    },
    {
      "cell_type": "code",
      "metadata": {
        "id": "m14FrYeMe-rk"
      },
      "source": [
        "# As the data is cleaned and well scaled, we will now move forward to the correlation in the dataframe."
      ],
      "execution_count": 196,
      "outputs": []
    },
    {
      "cell_type": "code",
      "metadata": {
        "id": "opOxkfJ-eYZb"
      },
      "source": [
        "# let's check the correlation between the features by using a heatmap"
      ],
      "execution_count": 197,
      "outputs": []
    },
    {
      "cell_type": "code",
      "metadata": {
        "colab": {
          "base_uri": "https://localhost:8080/",
          "height": 395
        },
        "id": "44gYvHYcde9n",
        "outputId": "70c25c97-588d-4b9c-bdc6-4ea68807dc99"
      },
      "source": [
        "plt.figure(figsize=(12,6))\n",
        "sns.heatmap(claim_pred.corr(), annot = True)"
      ],
      "execution_count": 198,
      "outputs": [
        {
          "output_type": "execute_result",
          "data": {
            "text/plain": [
              "<matplotlib.axes._subplots.AxesSubplot at 0x7fac794f6250>"
            ]
          },
          "metadata": {
            "tags": []
          },
          "execution_count": 198
        },
        {
          "output_type": "display_data",
          "data": {
            "image/png": "[encoded data removed]",
            "text/plain": [
              "<Figure size 864x432 with 2 Axes>"
            ]
          },
          "metadata": {
            "tags": [],
            "needs_background": "light"
          }
        }
      ]
    },
    {
      "cell_type": "code",
      "metadata": {
        "id": "b26SyFQ_eoG0"
      },
      "source": [
        "# From the heatmap we can know that, only some features are highly correlating with the \"CLAIM\" feature.\n",
        "# The features are 'EAFXA','AFDDA','EXCCE','DFFEC','BBADX',and finally 'CEXAE'."
      ],
      "execution_count": 199,
      "outputs": []
    },
    {
      "cell_type": "code",
      "metadata": {
        "id": "-inLo1s3fzRi"
      },
      "source": [
        "# we are dropping some columns, to create a new dataframe to effectively feed the model for better results."
      ],
      "execution_count": 200,
      "outputs": []
    },
    {
      "cell_type": "code",
      "metadata": {
        "colab": {
          "base_uri": "https://localhost:8080/"
        },
        "id": "DiL49eTfgNJQ",
        "outputId": "610ed8c7-4668-4d01-ba29-1a82950da729"
      },
      "source": [
        "claim_pred.columns"
      ],
      "execution_count": 201,
      "outputs": [
        {
          "output_type": "execute_result",
          "data": {
            "text/plain": [
              "Index(['EADDC', 'EAFXA', 'FDDBC', 'AFDDA', 'AXCXA', 'EXCCE', 'FBXFC', 'DFFEC',\n",
              "       'CEXAE', 'BBADX', 'CLAIM'],\n",
              "      dtype='object')"
            ]
          },
          "metadata": {
            "tags": []
          },
          "execution_count": 201
        }
      ]
    },
    {
      "cell_type": "code",
      "metadata": {
        "id": "FbB7Xi_VgJBo"
      },
      "source": [
        "claim_pred = claim_pred.drop(['EADDC','FDDBC','AXCXA','FBXFC'], axis=1)"
      ],
      "execution_count": 202,
      "outputs": []
    },
    {
      "cell_type": "code",
      "metadata": {
        "colab": {
          "base_uri": "https://localhost:8080/",
          "height": 204
        },
        "id": "prJF1FBHgzHn",
        "outputId": "160d492d-18da-48e3-fbd5-ee3ceb8ad0e8"
      },
      "source": [
        "claim_pred.head()"
      ],
      "execution_count": 203,
      "outputs": [
        {
          "output_type": "execute_result",
          "data": {
            "text/html": [
              "<div>\n",
              "<style scoped>\n",
              "    .dataframe tbody tr th:only-of-type {\n",
              "        vertical-align: middle;\n",
              "    }\n",
              "\n",
              "    .dataframe tbody tr th {\n",
              "        vertical-align: top;\n",
              "    }\n",
              "\n",
              "    .dataframe thead th {\n",
              "        text-align: right;\n",
              "    }\n",
              "</style>\n",
              "<table border=\"1\" class=\"dataframe\">\n",
              "  <thead>\n",
              "    <tr style=\"text-align: right;\">\n",
              "      <th></th>\n",
              "      <th>EAFXA</th>\n",
              "      <th>AFDDA</th>\n",
              "      <th>EXCCE</th>\n",
              "      <th>DFFEC</th>\n",
              "      <th>CEXAE</th>\n",
              "      <th>BBADX</th>\n",
              "      <th>CLAIM</th>\n",
              "    </tr>\n",
              "  </thead>\n",
              "  <tbody>\n",
              "    <tr>\n",
              "      <th>0</th>\n",
              "      <td>0.021062</td>\n",
              "      <td>4.314903</td>\n",
              "      <td>-1.259531</td>\n",
              "      <td>-0.942903</td>\n",
              "      <td>2.333260</td>\n",
              "      <td>4.678712</td>\n",
              "      <td>0</td>\n",
              "    </tr>\n",
              "    <tr>\n",
              "      <th>1</th>\n",
              "      <td>-3.195978</td>\n",
              "      <td>-0.885312</td>\n",
              "      <td>2.161336</td>\n",
              "      <td>-0.296360</td>\n",
              "      <td>-0.610780</td>\n",
              "      <td>-2.545978</td>\n",
              "      <td>1</td>\n",
              "    </tr>\n",
              "    <tr>\n",
              "      <th>2</th>\n",
              "      <td>0.048539</td>\n",
              "      <td>-0.380866</td>\n",
              "      <td>2.097278</td>\n",
              "      <td>-1.250050</td>\n",
              "      <td>2.362880</td>\n",
              "      <td>2.207307</td>\n",
              "      <td>0</td>\n",
              "    </tr>\n",
              "    <tr>\n",
              "      <th>3</th>\n",
              "      <td>-1.590548</td>\n",
              "      <td>-1.416489</td>\n",
              "      <td>3.040990</td>\n",
              "      <td>-0.190549</td>\n",
              "      <td>0.890761</td>\n",
              "      <td>-2.671923</td>\n",
              "      <td>0</td>\n",
              "    </tr>\n",
              "    <tr>\n",
              "      <th>4</th>\n",
              "      <td>-0.656180</td>\n",
              "      <td>-2.332379</td>\n",
              "      <td>2.055621</td>\n",
              "      <td>-0.269513</td>\n",
              "      <td>2.614886</td>\n",
              "      <td>-3.655301</td>\n",
              "      <td>0</td>\n",
              "    </tr>\n",
              "  </tbody>\n",
              "</table>\n",
              "</div>"
            ],
            "text/plain": [
              "      EAFXA     AFDDA     EXCCE     DFFEC     CEXAE     BBADX  CLAIM\n",
              "0  0.021062  4.314903 -1.259531 -0.942903  2.333260  4.678712      0\n",
              "1 -3.195978 -0.885312  2.161336 -0.296360 -0.610780 -2.545978      1\n",
              "2  0.048539 -0.380866  2.097278 -1.250050  2.362880  2.207307      0\n",
              "3 -1.590548 -1.416489  3.040990 -0.190549  0.890761 -2.671923      0\n",
              "4 -0.656180 -2.332379  2.055621 -0.269513  2.614886 -3.655301      0"
            ]
          },
          "metadata": {
            "tags": []
          },
          "execution_count": 203
        }
      ]
    },
    {
      "cell_type": "code",
      "metadata": {
        "id": "bw2kqbjMg1Tu"
      },
      "source": [
        "# now the data looks good, we can train model now."
      ],
      "execution_count": 204,
      "outputs": []
    },
    {
      "cell_type": "code",
      "metadata": {
        "id": "0OdrT-lXiGhe"
      },
      "source": [
        "# lets split the data by loading the functions."
      ],
      "execution_count": 205,
      "outputs": []
    },
    {
      "cell_type": "code",
      "metadata": {
        "id": "5WmxDoeeiLim"
      },
      "source": [
        "from sklearn.model_selection import train_test_split"
      ],
      "execution_count": 206,
      "outputs": []
    },
    {
      "cell_type": "code",
      "metadata": {
        "id": "dWGPLQKxiRjG"
      },
      "source": [
        "X = claim_pred.drop(['CLAIM'],axis=1)\n",
        "y = claim_pred['CLAIM']"
      ],
      "execution_count": 207,
      "outputs": []
    },
    {
      "cell_type": "code",
      "metadata": {
        "id": "YBUOnD0Hkglc"
      },
      "source": [
        "X_train, X_test, y_train, y_test = train_test_split(X, y, test_size=0.3, random_state=101)"
      ],
      "execution_count": 211,
      "outputs": []
    },
    {
      "cell_type": "markdown",
      "metadata": {
        "id": "6Vtnm8cEk9RO"
      },
      "source": [
        "Importing the Logistic Regression model and fitting and training the data."
      ]
    },
    {
      "cell_type": "code",
      "metadata": {
        "id": "uWn36skpiks-"
      },
      "source": [
        "from sklearn.linear_model import LogisticRegression"
      ],
      "execution_count": 208,
      "outputs": []
    },
    {
      "cell_type": "code",
      "metadata": {
        "id": "YNUcvYbtkOaO"
      },
      "source": [
        "log_model = LogisticRegression()"
      ],
      "execution_count": 215,
      "outputs": []
    },
    {
      "cell_type": "code",
      "metadata": {
        "colab": {
          "base_uri": "https://localhost:8080/"
        },
        "id": "_ANA2MDVkUGv",
        "outputId": "5637d915-dc9a-4d78-c331-8951975096d9"
      },
      "source": [
        "log_model.fit(X_train,y_train)"
      ],
      "execution_count": 216,
      "outputs": [
        {
          "output_type": "execute_result",
          "data": {
            "text/plain": [
              "LogisticRegression(C=1.0, class_weight=None, dual=False, fit_intercept=True,\n",
              "                   intercept_scaling=1, l1_ratio=None, max_iter=100,\n",
              "                   multi_class='auto', n_jobs=None, penalty='l2',\n",
              "                   random_state=None, solver='lbfgs', tol=0.0001, verbose=0,\n",
              "                   warm_start=False)"
            ]
          },
          "metadata": {
            "tags": []
          },
          "execution_count": 216
        }
      ]
    },
    {
      "cell_type": "markdown",
      "metadata": {
        "id": "SHmaFlRGlTiw"
      },
      "source": [
        "Predicting the performance of the model trained."
      ]
    },
    {
      "cell_type": "code",
      "metadata": {
        "id": "-93Qn6umk4-d"
      },
      "source": [
        "predictions = log_model.predict(X_test)"
      ],
      "execution_count": 217,
      "outputs": []
    },
    {
      "cell_type": "markdown",
      "metadata": {
        "id": "AgjwkxNcmZYM"
      },
      "source": [
        "Printing the metrics of the model"
      ]
    },
    {
      "cell_type": "code",
      "metadata": {
        "id": "9gqmxFwOlgHO"
      },
      "source": [
        "from sklearn.metrics import accuracy_score, classification_report, confusion_matrix"
      ],
      "execution_count": 218,
      "outputs": []
    },
    {
      "cell_type": "code",
      "metadata": {
        "colab": {
          "base_uri": "https://localhost:8080/"
        },
        "id": "tKoNdZpgmscW",
        "outputId": "fb06d6ad-efca-4aae-9149-d422a6d0b359"
      },
      "source": [
        "log_train_accu = accuracy_score(y_train,log_model.predict(X_train))\n",
        "log_test_accu = accuracy_score(y_test, predictions)\n",
        "\n",
        "print(f'Training accuracy of the logistic regression is :{log_train_accu}')\n",
        "print(f'Testing accuracy of the logistic regression is :{log_test_accu}')\n",
        "print('\\n')\n",
        "print(classification_report(y_test, predictions))\n",
        "print('\\n')\n",
        "print(confusion_matrix(y_test,predictions))"
      ],
      "execution_count": 224,
      "outputs": [
        {
          "output_type": "stream",
          "text": [
            "Training accuracy of the logistic regression is :0.7374285714285714\n",
            "Testing accuracy of the logistic regression is :0.7466666666666667\n",
            "\n",
            "\n",
            "              precision    recall  f1-score   support\n",
            "\n",
            "           0       0.75      0.75      0.75      1519\n",
            "           1       0.75      0.74      0.74      1481\n",
            "\n",
            "    accuracy                           0.75      3000\n",
            "   macro avg       0.75      0.75      0.75      3000\n",
            "weighted avg       0.75      0.75      0.75      3000\n",
            "\n",
            "\n",
            "\n",
            "[[1145  374]\n",
            " [ 386 1095]]\n"
          ],
          "name": "stdout"
        }
      ]
    },
    {
      "cell_type": "markdown",
      "metadata": {
        "id": "PAsbW4neqcPS"
      },
      "source": [
        "This model doesn't seems to be a good one"
      ]
    },
    {
      "cell_type": "markdown",
      "metadata": {
        "id": "BlwZlLbipAWu"
      },
      "source": [
        "Let's check another model for better accuracy."
      ]
    },
    {
      "cell_type": "markdown",
      "metadata": {
        "id": "aUYcXWDFptDO"
      },
      "source": [
        "Importing support vector classifier from SVM"
      ]
    },
    {
      "cell_type": "code",
      "metadata": {
        "id": "63yGzRmqm9Ll"
      },
      "source": [
        "from sklearn.svm import SVC\n",
        "\n",
        "svclassifier = SVC()\n",
        "\n",
        "svclassifier.fit(X_train, y_train)\n",
        "\n",
        "svpred = svclassifier.predict(X_test)"
      ],
      "execution_count": 226,
      "outputs": []
    },
    {
      "cell_type": "code",
      "metadata": {
        "colab": {
          "base_uri": "https://localhost:8080/"
        },
        "id": "ckjcdnNapi-X",
        "outputId": "47939284-3a31-4e12-d2f6-ca800bb05c2e"
      },
      "source": [
        "svc_train_accu = accuracy_score(y_train, svclassifier.predict(X_train))\n",
        "svc_test_accu = accuracy_score(y_test, svpred)\n",
        "\n",
        "print(f'Training accuracy of the support vector classifier is :{svc_train_accu}')\n",
        "print(f'Testing accuracy of the support vector classifier is :{svc_test_accu}')\n",
        "print('\\n')\n",
        "print(classification_report(y_test, svpred))\n",
        "print('\\n')\n",
        "print(confusion_matrix(y_test, svpred))"
      ],
      "execution_count": 229,
      "outputs": [
        {
          "output_type": "stream",
          "text": [
            "Training accuracy of the support vector classifier is :0.8584285714285714\n",
            "Testing accuracy of the support vector classifier is :0.8523333333333334\n",
            "\n",
            "\n",
            "              precision    recall  f1-score   support\n",
            "\n",
            "           0       0.87      0.83      0.85      1519\n",
            "           1       0.83      0.87      0.85      1481\n",
            "\n",
            "    accuracy                           0.85      3000\n",
            "   macro avg       0.85      0.85      0.85      3000\n",
            "weighted avg       0.85      0.85      0.85      3000\n",
            "\n",
            "\n",
            "\n",
            "[[1262  257]\n",
            " [ 186 1295]]\n"
          ],
          "name": "stdout"
        }
      ]
    },
    {
      "cell_type": "markdown",
      "metadata": {
        "id": "5Kozt9J2qjZi"
      },
      "source": [
        "This model seems good let's check some other model."
      ]
    },
    {
      "cell_type": "markdown",
      "metadata": {
        "id": "W3eAlnsstARF"
      },
      "source": [
        "Import KNeighbors Classifier"
      ]
    },
    {
      "cell_type": "code",
      "metadata": {
        "id": "3Lw6yG-gqU0E"
      },
      "source": [
        "from sklearn.neighbors import KNeighborsClassifier\n",
        "\n",
        "knc = KNeighborsClassifier()\n",
        "\n",
        "knc.fit(X_train, y_train)\n",
        "\n",
        "knc_pred = knc.predict(X_test)"
      ],
      "execution_count": 228,
      "outputs": []
    },
    {
      "cell_type": "code",
      "metadata": {
        "colab": {
          "base_uri": "https://localhost:8080/"
        },
        "id": "7MtGVhYDrSfH",
        "outputId": "32a4c0b1-6b43-4dd2-8460-d1e0fbf10723"
      },
      "source": [
        "knc_train_accu = accuracy_score(y_train,knc.predict(X_train))\n",
        "knc_test_accu = accuracy_score(y_test, knc_pred)\n",
        "\n",
        "print(f'Training accuracy of the kneighbors classifier is :{log_train_accu}')\n",
        "print(f'Testing accuracy of the kneighbors classifier is :{log_test_accu}')\n",
        "print('\\n')\n",
        "print(classification_report(y_test, predictions))\n",
        "print('\\n')\n",
        "print(confusion_matrix(y_test,predictions))"
      ],
      "execution_count": 230,
      "outputs": [
        {
          "output_type": "stream",
          "text": [
            "Training accuracy of the kneighbors classifier is :0.7374285714285714\n",
            "Testing accuracy of the kneighbors classifier is :0.7466666666666667\n",
            "\n",
            "\n",
            "              precision    recall  f1-score   support\n",
            "\n",
            "           0       0.75      0.75      0.75      1519\n",
            "           1       0.75      0.74      0.74      1481\n",
            "\n",
            "    accuracy                           0.75      3000\n",
            "   macro avg       0.75      0.75      0.75      3000\n",
            "weighted avg       0.75      0.75      0.75      3000\n",
            "\n",
            "\n",
            "\n",
            "[[1145  374]\n",
            " [ 386 1095]]\n"
          ],
          "name": "stdout"
        }
      ]
    },
    {
      "cell_type": "markdown",
      "metadata": {
        "id": "3MjbVudWrxJX"
      },
      "source": [
        "From all the three models i assume the SUPPORT VECTOR CLASSIFIER gives the best accuracy for the data. because this model best fits this type of data and it will perform well for the new similar data that are going to be given."
      ]
    },
    {
      "cell_type": "code",
      "metadata": {
        "id": "WPZ7J1dRrtRk"
      },
      "source": [
        ""
      ],
      "execution_count": null,
      "outputs": []
    },
    {
      "cell_type": "markdown",
      "metadata": {
        "id": "m8nBp_Ljm86Z"
      },
      "source": [
        "..."
      ]
    },
    {
      "cell_type": "markdown",
      "metadata": {
        "id": "yWH6pQz-1zxc"
      },
      "source": [
        "..."
      ]
    },
    {
      "cell_type": "markdown",
      "metadata": {
        "id": "Lu5aNFvb102c"
      },
      "source": [
        "EXERCISE - 3 : MODEL EVALUATION"
      ]
    },
    {
      "cell_type": "markdown",
      "metadata": {
        "id": "YnmKeJkJ2REE"
      },
      "source": [
        "...."
      ]
    },
    {
      "cell_type": "markdown",
      "metadata": {
        "id": "AS-U37CwEG57"
      },
      "source": [
        "1. Answer for the 1st question.\n",
        "\n",
        "  * Actually there is no perfect answer for the number of clusters, because it depends on the method used to find the similarities and parameters for partition. but there many indices to find the optimal number of clusters for better results. the two major approaches are domain knowledge and data driven approach.\n",
        "\n",
        "  * The efficacy of the KMeans Clustering largely depends on the optimal number of clusters given in the model. if clusters are too high, each point boardly start representing a cluster and if clusters are low, the data points are incorrectly clustered. so selecting the optimal numbers of clusters gives the best efficiency.\n"
      ]
    },
    {
      "cell_type": "markdown",
      "metadata": {
        "id": "dvTtiD0kJ-50"
      },
      "source": [
        "2. Answer for the 2nd question.\n",
        "\n",
        "  * High variance can be reduced by dropping least important or unwanted features in the dataset before training the model.\n",
        "  * Increasing the size of the training set also can reduce the high variance.\n",
        "  * Reducing the overfitting, having reasonable variance, avoiding nosiy data helps in fixing the bias, it is better to leave the linear models when the target and features don't match that better."
      ]
    },
    {
      "cell_type": "markdown",
      "metadata": {
        "id": "CK4TBeHCeedG"
      },
      "source": [
        "3. Answer to the 3rd question.\n",
        "\n",
        "    * I will choose a model 4 (training error - 105, validation error - 85).\n",
        "    Because, training error depends on the quality of the data, at some point of time in training model, the training accuracy increases and validation accuracy decreases. so this model gives the better validation score comparing to the other other models that is going to give better accuracy when validated with test data."
      ]
    },
    {
      "cell_type": "markdown",
      "metadata": {
        "id": "gEC7aAt-ggqC"
      },
      "source": [
        "4. Answer to the 4th question.\n",
        "\n",
        "    * Recall = (True positive) / (true positive + false negative)\n",
        "             = (112/(112+97))\n",
        "             = 0.535\n",
        "    \n",
        "    * Precision = (truepositive) / (true positive + false positive)\n",
        "                = (112/(112+48))\n",
        "                = 0.7\n",
        "\n",
        "    * F1 score = 2*(Precision*Recall)/(Precision + Recall)\n",
        "               = (2*(0.535*0.7))/(0.535+0.7)\n",
        "               = 0.606\n",
        "\n",
        "    * If i have to choose this model i will focus on Type 2 error(False postives and false negatives), because while dealing with the cancer, if it is given positive for non-cancer patients and negative for cancer patients there is no point of doing it. The metric i am going to choose is 'misclassification',focusing on these things we can eliminate maximum errors.\n",
        "\n",
        "    * if i have to deal with a youtube video i will go with Type 1 error(false positives). there is no meaning if we recommended inappropriate video(false positives) to the users. the metric i am going to focus is Precison where i can better deal with the best positive decion(video) i can make."
      ]
    },
    {
      "cell_type": "code",
      "metadata": {
        "id": "iv1_FpI52PBM"
      },
      "source": [
        ""
      ],
      "execution_count": null,
      "outputs": []
    },
    {
      "cell_type": "markdown",
      "metadata": {
        "id": "pGfLjfH9mo7l"
      },
      "source": [
        "...."
      ]
    },
    {
      "cell_type": "markdown",
      "metadata": {
        "id": "8r20Bx9RmrJ-"
      },
      "source": [
        "..."
      ]
    },
    {
      "cell_type": "markdown",
      "metadata": {
        "id": "KYBJZibPmveg"
      },
      "source": [
        "EXERCISE - 4 : ANOMALY DETECTION."
      ]
    },
    {
      "cell_type": "markdown",
      "metadata": {
        "id": "sqWra2Ztm4yX"
      },
      "source": [
        "..."
      ]
    },
    {
      "cell_type": "code",
      "metadata": {
        "id": "UJc7GupAmqB5"
      },
      "source": [
        ""
      ],
      "execution_count": null,
      "outputs": []
    }
  ]
}